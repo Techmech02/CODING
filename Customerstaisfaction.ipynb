{
 "cells": [
  {
   "cell_type": "code",
   "execution_count": 30,
   "id": "22fcb733",
   "metadata": {},
   "outputs": [],
   "source": [
    "import numpy as np\n",
    "import matplotlib.pyplot as plt\n",
    "import pandas as pd\n",
    "from sklearn.metrics import confusion_matrix,classification_report"
   ]
  },
  {
   "cell_type": "code",
   "execution_count": 31,
   "id": "64e859c3",
   "metadata": {},
   "outputs": [
    {
     "data": {
      "application/vnd.microsoft.datawrangler.viewer.v0+json": {
       "columns": [
        {
         "name": "index",
         "rawType": "int64",
         "type": "integer"
        },
        {
         "name": "Gender",
         "rawType": "object",
         "type": "string"
        },
        {
         "name": "Customer Type",
         "rawType": "object",
         "type": "string"
        },
        {
         "name": "Type of Travel",
         "rawType": "object",
         "type": "string"
        },
        {
         "name": "Class",
         "rawType": "object",
         "type": "string"
        },
        {
         "name": "satisfaction",
         "rawType": "object",
         "type": "string"
        },
        {
         "name": "Age",
         "rawType": "int64",
         "type": "integer"
        },
        {
         "name": "Flight Distance",
         "rawType": "int64",
         "type": "integer"
        },
        {
         "name": "Inflight entertainment",
         "rawType": "int64",
         "type": "integer"
        },
        {
         "name": "Baggage handling",
         "rawType": "int64",
         "type": "integer"
        },
        {
         "name": "Cleanliness",
         "rawType": "int64",
         "type": "integer"
        },
        {
         "name": "Departure Delay in Minutes",
         "rawType": "int64",
         "type": "integer"
        },
        {
         "name": "Arrival Delay in Minutes",
         "rawType": "float64",
         "type": "float"
        }
       ],
       "conversionMethod": "pd.DataFrame",
       "ref": "7507c5bf-7360-4005-9ad1-01230d980f30",
       "rows": [
        [
         "0",
         "Male",
         "Loyal Customer",
         "Personal Travel",
         "Eco Plus",
         "neutral or dissatisfied",
         "13",
         "460",
         "5",
         "4",
         "5",
         "25",
         "18.0"
        ],
        [
         "1",
         "Male",
         "disloyal Customer",
         "Business travel",
         "Business",
         "neutral or dissatisfied",
         "25",
         "235",
         "1",
         "3",
         "1",
         "1",
         "6.0"
        ],
        [
         "2",
         "Female",
         "Loyal Customer",
         "Business travel",
         "Business",
         "satisfied",
         "26",
         "1142",
         "5",
         "4",
         "5",
         "0",
         "0.0"
        ],
        [
         "3",
         "Female",
         "Loyal Customer",
         "Business travel",
         "Business",
         "neutral or dissatisfied",
         "25",
         "562",
         "2",
         "3",
         "2",
         "11",
         "9.0"
        ],
        [
         "4",
         "Male",
         "Loyal Customer",
         "Business travel",
         "Business",
         "satisfied",
         "61",
         "214",
         "3",
         "4",
         "3",
         "0",
         "0.0"
        ],
        [
         "5",
         "Female",
         "Loyal Customer",
         "Personal Travel",
         "Eco",
         "neutral or dissatisfied",
         "26",
         "1180",
         "1",
         "4",
         "1",
         "0",
         "0.0"
        ],
        [
         "6",
         "Male",
         "Loyal Customer",
         "Personal Travel",
         "Eco",
         "neutral or dissatisfied",
         "47",
         "1276",
         "2",
         "4",
         "2",
         "9",
         "23.0"
        ],
        [
         "7",
         "Female",
         "Loyal Customer",
         "Business travel",
         "Business",
         "satisfied",
         "52",
         "2035",
         "5",
         "5",
         "4",
         "4",
         "0.0"
        ],
        [
         "8",
         "Female",
         "Loyal Customer",
         "Business travel",
         "Business",
         "neutral or dissatisfied",
         "41",
         "853",
         "1",
         "1",
         "2",
         "0",
         "0.0"
        ],
        [
         "9",
         "Male",
         "disloyal Customer",
         "Business travel",
         "Eco",
         "neutral or dissatisfied",
         "20",
         "1061",
         "2",
         "4",
         "2",
         "0",
         "0.0"
        ],
        [
         "10",
         "Female",
         "disloyal Customer",
         "Business travel",
         "Eco",
         "neutral or dissatisfied",
         "24",
         "1182",
         "2",
         "5",
         "2",
         "0",
         "0.0"
        ],
        [
         "11",
         "Female",
         "Loyal Customer",
         "Personal Travel",
         "Eco Plus",
         "neutral or dissatisfied",
         "12",
         "308",
         "1",
         "5",
         "1",
         "0",
         "0.0"
        ],
        [
         "12",
         "Male",
         "Loyal Customer",
         "Business travel",
         "Eco",
         "neutral or dissatisfied",
         "53",
         "834",
         "1",
         "3",
         "1",
         "28",
         "8.0"
        ],
        [
         "13",
         "Male",
         "Loyal Customer",
         "Personal Travel",
         "Eco",
         "satisfied",
         "33",
         "946",
         "4",
         "2",
         "4",
         "0",
         "0.0"
        ],
        [
         "14",
         "Female",
         "Loyal Customer",
         "Personal Travel",
         "Eco",
         "neutral or dissatisfied",
         "26",
         "453",
         "2",
         "2",
         "2",
         "43",
         "35.0"
        ],
        [
         "15",
         "Male",
         "disloyal Customer",
         "Business travel",
         "Eco",
         "neutral or dissatisfied",
         "13",
         "486",
         "4",
         "4",
         "4",
         "1",
         "0.0"
        ],
        [
         "16",
         "Female",
         "Loyal Customer",
         "Business travel",
         "Business",
         "satisfied",
         "26",
         "2123",
         "4",
         "4",
         "4",
         "49",
         "51.0"
        ],
        [
         "17",
         "Male",
         "Loyal Customer",
         "Business travel",
         "Business",
         "satisfied",
         "41",
         "2075",
         "5",
         "5",
         "5",
         "0",
         "10.0"
        ],
        [
         "18",
         "Female",
         "Loyal Customer",
         "Business travel",
         "Business",
         "satisfied",
         "45",
         "2486",
         "5",
         "5",
         "4",
         "7",
         "5.0"
        ],
        [
         "19",
         "Male",
         "Loyal Customer",
         "Personal Travel",
         "Eco",
         "neutral or dissatisfied",
         "38",
         "460",
         "5",
         "4",
         "5",
         "17",
         "18.0"
        ],
        [
         "20",
         "Male",
         "Loyal Customer",
         "Business travel",
         "Eco",
         "neutral or dissatisfied",
         "9",
         "1174",
         "2",
         "3",
         "2",
         "0",
         "4.0"
        ],
        [
         "21",
         "Female",
         "Loyal Customer",
         "Personal Travel",
         "Eco",
         "neutral or dissatisfied",
         "17",
         "208",
         "5",
         "3",
         "5",
         "0",
         "0.0"
        ],
        [
         "22",
         "Female",
         "Loyal Customer",
         "Personal Travel",
         "Eco",
         "neutral or dissatisfied",
         "43",
         "752",
         "3",
         "5",
         "4",
         "52",
         "29.0"
        ],
        [
         "23",
         "Female",
         "Loyal Customer",
         "Personal Travel",
         "Eco",
         "neutral or dissatisfied",
         "58",
         "2139",
         "4",
         "4",
         "2",
         "0",
         "0.0"
        ],
        [
         "24",
         "Female",
         "disloyal Customer",
         "Business travel",
         "Eco",
         "satisfied",
         "23",
         "452",
         "1",
         "5",
         "1",
         "54",
         "44.0"
        ],
        [
         "25",
         "Male",
         "Loyal Customer",
         "Personal Travel",
         "Eco",
         "neutral or dissatisfied",
         "57",
         "719",
         "5",
         "4",
         "5",
         "27",
         "28.0"
        ],
        [
         "26",
         "Female",
         "Loyal Customer",
         "Business travel",
         "Business",
         "satisfied",
         "33",
         "1561",
         "4",
         "3",
         "2",
         "0",
         "0.0"
        ],
        [
         "27",
         "Female",
         "Loyal Customer",
         "Business travel",
         "Eco Plus",
         "satisfied",
         "49",
         "315",
         "4",
         "4",
         "2",
         "0",
         "8.0"
        ],
        [
         "28",
         "Female",
         "Loyal Customer",
         "Business travel",
         "Business",
         "neutral or dissatisfied",
         "36",
         "3347",
         "3",
         "3",
         "2",
         "18",
         "12.0"
        ],
        [
         "29",
         "Male",
         "Loyal Customer",
         "Personal Travel",
         "Eco",
         "neutral or dissatisfied",
         "22",
         "2342",
         "3",
         "3",
         "3",
         "19",
         "0.0"
        ],
        [
         "30",
         "Female",
         "Loyal Customer",
         "Business travel",
         "Business",
         "satisfied",
         "31",
         "819",
         "5",
         "3",
         "5",
         "0",
         "0.0"
        ],
        [
         "31",
         "Female",
         "disloyal Customer",
         "Business travel",
         "Eco",
         "neutral or dissatisfied",
         "15",
         "1043",
         "5",
         "4",
         "5",
         "3",
         "0.0"
        ],
        [
         "32",
         "Female",
         "Loyal Customer",
         "Business travel",
         "Business",
         "satisfied",
         "35",
         "2611",
         "3",
         "5",
         "4",
         "109",
         "120.0"
        ],
        [
         "33",
         "Female",
         "Loyal Customer",
         "Personal Travel",
         "Eco",
         "neutral or dissatisfied",
         "67",
         "1192",
         "5",
         "3",
         "5",
         "18",
         "24.0"
        ],
        [
         "34",
         "Male",
         "disloyal Customer",
         "Business travel",
         "Business",
         "neutral or dissatisfied",
         "37",
         "1182",
         "1",
         "3",
         "1",
         "9",
         "0.0"
        ],
        [
         "35",
         "Female",
         "Loyal Customer",
         "Business travel",
         "Eco",
         "neutral or dissatisfied",
         "40",
         "349",
         "1",
         "3",
         "1",
         "0",
         "1.0"
        ],
        [
         "36",
         "Female",
         "disloyal Customer",
         "Business travel",
         "Business",
         "neutral or dissatisfied",
         "34",
         "883",
         "5",
         "5",
         "5",
         "0",
         "0.0"
        ],
        [
         "37",
         "Male",
         "Loyal Customer",
         "Personal Travel",
         "Eco Plus",
         "neutral or dissatisfied",
         "40",
         "550",
         "2",
         "4",
         "2",
         "23",
         "20.0"
        ],
        [
         "38",
         "Female",
         "Loyal Customer",
         "Personal Travel",
         "Eco",
         "satisfied",
         "47",
         "302",
         "4",
         "4",
         "4",
         "23",
         "31.0"
        ],
        [
         "39",
         "Male",
         "disloyal Customer",
         "Business travel",
         "Business",
         "neutral or dissatisfied",
         "41",
         "354",
         "1",
         "4",
         "1",
         "0",
         "0.0"
        ],
        [
         "40",
         "Male",
         "Loyal Customer",
         "Business travel",
         "Business",
         "satisfied",
         "39",
         "1734",
         "4",
         "4",
         "3",
         "0",
         "0.0"
        ],
        [
         "41",
         "Female",
         "disloyal Customer",
         "Business travel",
         "Business",
         "neutral or dissatisfied",
         "25",
         "1452",
         "3",
         "5",
         "3",
         "9",
         "23.0"
        ],
        [
         "42",
         "Male",
         "Loyal Customer",
         "Business travel",
         "Business",
         "satisfied",
         "41",
         "296",
         "4",
         "4",
         "3",
         "0",
         "0.0"
        ],
        [
         "43",
         "Female",
         "Loyal Customer",
         "Business travel",
         "Business",
         "satisfied",
         "38",
         "2882",
         "5",
         "5",
         "4",
         "0",
         "0.0"
        ],
        [
         "44",
         "Female",
         "Loyal Customer",
         "Business travel",
         "Business",
         "satisfied",
         "50",
         "460",
         "3",
         "3",
         "5",
         "1",
         "15.0"
        ],
        [
         "45",
         "Male",
         "Loyal Customer",
         "Business travel",
         "Business",
         "satisfied",
         "29",
         "529",
         "5",
         "5",
         "5",
         "4",
         "0.0"
        ],
        [
         "46",
         "Female",
         "Loyal Customer",
         "Personal Travel",
         "Business",
         "neutral or dissatisfied",
         "22",
         "349",
         "4",
         "4",
         "4",
         "0",
         "0.0"
        ],
        [
         "47",
         "Female",
         "Loyal Customer",
         "Business travel",
         "Business",
         "neutral or dissatisfied",
         "13",
         "1522",
         "1",
         "3",
         "1",
         "0",
         "0.0"
        ],
        [
         "48",
         "Male",
         "Loyal Customer",
         "Business travel",
         "Business",
         "satisfied",
         "54",
         "612",
         "5",
         "5",
         "3",
         "8",
         "0.0"
        ],
        [
         "49",
         "Male",
         "Loyal Customer",
         "Personal Travel",
         "Eco",
         "neutral or dissatisfied",
         "21",
         "1454",
         "5",
         "3",
         "5",
         "0",
         "0.0"
        ]
       ],
       "shape": {
        "columns": 12,
        "rows": 103904
       }
      },
      "text/html": [
       "<div>\n",
       "<style scoped>\n",
       "    .dataframe tbody tr th:only-of-type {\n",
       "        vertical-align: middle;\n",
       "    }\n",
       "\n",
       "    .dataframe tbody tr th {\n",
       "        vertical-align: top;\n",
       "    }\n",
       "\n",
       "    .dataframe thead th {\n",
       "        text-align: right;\n",
       "    }\n",
       "</style>\n",
       "<table border=\"1\" class=\"dataframe\">\n",
       "  <thead>\n",
       "    <tr style=\"text-align: right;\">\n",
       "      <th></th>\n",
       "      <th>Gender</th>\n",
       "      <th>Customer Type</th>\n",
       "      <th>Type of Travel</th>\n",
       "      <th>Class</th>\n",
       "      <th>satisfaction</th>\n",
       "      <th>Age</th>\n",
       "      <th>Flight Distance</th>\n",
       "      <th>Inflight entertainment</th>\n",
       "      <th>Baggage handling</th>\n",
       "      <th>Cleanliness</th>\n",
       "      <th>Departure Delay in Minutes</th>\n",
       "      <th>Arrival Delay in Minutes</th>\n",
       "    </tr>\n",
       "  </thead>\n",
       "  <tbody>\n",
       "    <tr>\n",
       "      <th>0</th>\n",
       "      <td>Male</td>\n",
       "      <td>Loyal Customer</td>\n",
       "      <td>Personal Travel</td>\n",
       "      <td>Eco Plus</td>\n",
       "      <td>neutral or dissatisfied</td>\n",
       "      <td>13</td>\n",
       "      <td>460</td>\n",
       "      <td>5</td>\n",
       "      <td>4</td>\n",
       "      <td>5</td>\n",
       "      <td>25</td>\n",
       "      <td>18.0</td>\n",
       "    </tr>\n",
       "    <tr>\n",
       "      <th>1</th>\n",
       "      <td>Male</td>\n",
       "      <td>disloyal Customer</td>\n",
       "      <td>Business travel</td>\n",
       "      <td>Business</td>\n",
       "      <td>neutral or dissatisfied</td>\n",
       "      <td>25</td>\n",
       "      <td>235</td>\n",
       "      <td>1</td>\n",
       "      <td>3</td>\n",
       "      <td>1</td>\n",
       "      <td>1</td>\n",
       "      <td>6.0</td>\n",
       "    </tr>\n",
       "    <tr>\n",
       "      <th>2</th>\n",
       "      <td>Female</td>\n",
       "      <td>Loyal Customer</td>\n",
       "      <td>Business travel</td>\n",
       "      <td>Business</td>\n",
       "      <td>satisfied</td>\n",
       "      <td>26</td>\n",
       "      <td>1142</td>\n",
       "      <td>5</td>\n",
       "      <td>4</td>\n",
       "      <td>5</td>\n",
       "      <td>0</td>\n",
       "      <td>0.0</td>\n",
       "    </tr>\n",
       "    <tr>\n",
       "      <th>3</th>\n",
       "      <td>Female</td>\n",
       "      <td>Loyal Customer</td>\n",
       "      <td>Business travel</td>\n",
       "      <td>Business</td>\n",
       "      <td>neutral or dissatisfied</td>\n",
       "      <td>25</td>\n",
       "      <td>562</td>\n",
       "      <td>2</td>\n",
       "      <td>3</td>\n",
       "      <td>2</td>\n",
       "      <td>11</td>\n",
       "      <td>9.0</td>\n",
       "    </tr>\n",
       "    <tr>\n",
       "      <th>4</th>\n",
       "      <td>Male</td>\n",
       "      <td>Loyal Customer</td>\n",
       "      <td>Business travel</td>\n",
       "      <td>Business</td>\n",
       "      <td>satisfied</td>\n",
       "      <td>61</td>\n",
       "      <td>214</td>\n",
       "      <td>3</td>\n",
       "      <td>4</td>\n",
       "      <td>3</td>\n",
       "      <td>0</td>\n",
       "      <td>0.0</td>\n",
       "    </tr>\n",
       "    <tr>\n",
       "      <th>...</th>\n",
       "      <td>...</td>\n",
       "      <td>...</td>\n",
       "      <td>...</td>\n",
       "      <td>...</td>\n",
       "      <td>...</td>\n",
       "      <td>...</td>\n",
       "      <td>...</td>\n",
       "      <td>...</td>\n",
       "      <td>...</td>\n",
       "      <td>...</td>\n",
       "      <td>...</td>\n",
       "      <td>...</td>\n",
       "    </tr>\n",
       "    <tr>\n",
       "      <th>103899</th>\n",
       "      <td>Female</td>\n",
       "      <td>disloyal Customer</td>\n",
       "      <td>Business travel</td>\n",
       "      <td>Eco</td>\n",
       "      <td>neutral or dissatisfied</td>\n",
       "      <td>23</td>\n",
       "      <td>192</td>\n",
       "      <td>2</td>\n",
       "      <td>4</td>\n",
       "      <td>2</td>\n",
       "      <td>3</td>\n",
       "      <td>0.0</td>\n",
       "    </tr>\n",
       "    <tr>\n",
       "      <th>103900</th>\n",
       "      <td>Male</td>\n",
       "      <td>Loyal Customer</td>\n",
       "      <td>Business travel</td>\n",
       "      <td>Business</td>\n",
       "      <td>satisfied</td>\n",
       "      <td>49</td>\n",
       "      <td>2347</td>\n",
       "      <td>5</td>\n",
       "      <td>5</td>\n",
       "      <td>4</td>\n",
       "      <td>0</td>\n",
       "      <td>0.0</td>\n",
       "    </tr>\n",
       "    <tr>\n",
       "      <th>103901</th>\n",
       "      <td>Male</td>\n",
       "      <td>disloyal Customer</td>\n",
       "      <td>Business travel</td>\n",
       "      <td>Business</td>\n",
       "      <td>neutral or dissatisfied</td>\n",
       "      <td>30</td>\n",
       "      <td>1995</td>\n",
       "      <td>4</td>\n",
       "      <td>4</td>\n",
       "      <td>4</td>\n",
       "      <td>7</td>\n",
       "      <td>14.0</td>\n",
       "    </tr>\n",
       "    <tr>\n",
       "      <th>103902</th>\n",
       "      <td>Female</td>\n",
       "      <td>disloyal Customer</td>\n",
       "      <td>Business travel</td>\n",
       "      <td>Eco</td>\n",
       "      <td>neutral or dissatisfied</td>\n",
       "      <td>22</td>\n",
       "      <td>1000</td>\n",
       "      <td>1</td>\n",
       "      <td>1</td>\n",
       "      <td>1</td>\n",
       "      <td>0</td>\n",
       "      <td>0.0</td>\n",
       "    </tr>\n",
       "    <tr>\n",
       "      <th>103903</th>\n",
       "      <td>Male</td>\n",
       "      <td>Loyal Customer</td>\n",
       "      <td>Business travel</td>\n",
       "      <td>Business</td>\n",
       "      <td>neutral or dissatisfied</td>\n",
       "      <td>27</td>\n",
       "      <td>1723</td>\n",
       "      <td>1</td>\n",
       "      <td>4</td>\n",
       "      <td>1</td>\n",
       "      <td>0</td>\n",
       "      <td>0.0</td>\n",
       "    </tr>\n",
       "  </tbody>\n",
       "</table>\n",
       "<p>103904 rows × 12 columns</p>\n",
       "</div>"
      ],
      "text/plain": [
       "        Gender      Customer Type   Type of Travel     Class  \\\n",
       "0         Male     Loyal Customer  Personal Travel  Eco Plus   \n",
       "1         Male  disloyal Customer  Business travel  Business   \n",
       "2       Female     Loyal Customer  Business travel  Business   \n",
       "3       Female     Loyal Customer  Business travel  Business   \n",
       "4         Male     Loyal Customer  Business travel  Business   \n",
       "...        ...                ...              ...       ...   \n",
       "103899  Female  disloyal Customer  Business travel       Eco   \n",
       "103900    Male     Loyal Customer  Business travel  Business   \n",
       "103901    Male  disloyal Customer  Business travel  Business   \n",
       "103902  Female  disloyal Customer  Business travel       Eco   \n",
       "103903    Male     Loyal Customer  Business travel  Business   \n",
       "\n",
       "                   satisfaction  Age  Flight Distance  Inflight entertainment  \\\n",
       "0       neutral or dissatisfied   13              460                       5   \n",
       "1       neutral or dissatisfied   25              235                       1   \n",
       "2                     satisfied   26             1142                       5   \n",
       "3       neutral or dissatisfied   25              562                       2   \n",
       "4                     satisfied   61              214                       3   \n",
       "...                         ...  ...              ...                     ...   \n",
       "103899  neutral or dissatisfied   23              192                       2   \n",
       "103900                satisfied   49             2347                       5   \n",
       "103901  neutral or dissatisfied   30             1995                       4   \n",
       "103902  neutral or dissatisfied   22             1000                       1   \n",
       "103903  neutral or dissatisfied   27             1723                       1   \n",
       "\n",
       "        Baggage handling  Cleanliness  Departure Delay in Minutes  \\\n",
       "0                      4            5                          25   \n",
       "1                      3            1                           1   \n",
       "2                      4            5                           0   \n",
       "3                      3            2                          11   \n",
       "4                      4            3                           0   \n",
       "...                  ...          ...                         ...   \n",
       "103899                 4            2                           3   \n",
       "103900                 5            4                           0   \n",
       "103901                 4            4                           7   \n",
       "103902                 1            1                           0   \n",
       "103903                 4            1                           0   \n",
       "\n",
       "        Arrival Delay in Minutes  \n",
       "0                           18.0  \n",
       "1                            6.0  \n",
       "2                            0.0  \n",
       "3                            9.0  \n",
       "4                            0.0  \n",
       "...                          ...  \n",
       "103899                       0.0  \n",
       "103900                       0.0  \n",
       "103901                      14.0  \n",
       "103902                       0.0  \n",
       "103903                       0.0  \n",
       "\n",
       "[103904 rows x 12 columns]"
      ]
     },
     "execution_count": 31,
     "metadata": {},
     "output_type": "execute_result"
    }
   ],
   "source": [
    "df=pd.read_csv(\"cust_satisfaction.csv\")\n",
    "df"
   ]
  },
  {
   "cell_type": "code",
   "execution_count": 32,
   "id": "3d27504c",
   "metadata": {},
   "outputs": [
    {
     "data": {
      "text/plain": [
       "Gender                          0\n",
       "Customer Type                   0\n",
       "Type of Travel                  0\n",
       "Class                           0\n",
       "satisfaction                    0\n",
       "Age                             0\n",
       "Flight Distance                 0\n",
       "Inflight entertainment          0\n",
       "Baggage handling                0\n",
       "Cleanliness                     0\n",
       "Departure Delay in Minutes      0\n",
       "Arrival Delay in Minutes      310\n",
       "dtype: int64"
      ]
     },
     "execution_count": 32,
     "metadata": {},
     "output_type": "execute_result"
    }
   ],
   "source": [
    "df.isnull().sum()"
   ]
  },
  {
   "cell_type": "code",
   "execution_count": 33,
   "id": "0c88693a",
   "metadata": {},
   "outputs": [],
   "source": [
    "df.dropna(inplace=True)"
   ]
  },
  {
   "cell_type": "code",
   "execution_count": 34,
   "id": "502d9aa6",
   "metadata": {},
   "outputs": [
    {
     "data": {
      "text/plain": [
       "Customer Type\n",
       "Loyal Customer       84662\n",
       "disloyal Customer    18932\n",
       "Name: count, dtype: int64"
      ]
     },
     "execution_count": 34,
     "metadata": {},
     "output_type": "execute_result"
    }
   ],
   "source": [
    "df[\"Customer Type\"].value_counts()"
   ]
  },
  {
   "cell_type": "code",
   "execution_count": 35,
   "id": "c539b09c",
   "metadata": {},
   "outputs": [],
   "source": [
    "loyal_customer = df[df[\"Customer Type\"] == \"Loyal Customer\"]\n",
    "disloyal_customer = df[df[\"Customer Type\"] == \"disloyal Customer\"]"
   ]
  },
  {
   "cell_type": "code",
   "execution_count": 36,
   "id": "f43df493",
   "metadata": {},
   "outputs": [
    {
     "data": {
      "text/plain": [
       "(20000, 12)"
      ]
     },
     "execution_count": 36,
     "metadata": {},
     "output_type": "execute_result"
    }
   ],
   "source": [
    "loyal_customer = loyal_customer.sample(20000)\n",
    "loyal_customer.shape"
   ]
  },
  {
   "cell_type": "code",
   "execution_count": null,
   "id": "15b455d0",
   "metadata": {},
   "outputs": [],
   "source": []
  },
  {
   "cell_type": "code",
   "execution_count": 37,
   "id": "3df3a8f5",
   "metadata": {},
   "outputs": [
    {
     "data": {
      "application/vnd.microsoft.datawrangler.viewer.v0+json": {
       "columns": [
        {
         "name": "index",
         "rawType": "int64",
         "type": "integer"
        },
        {
         "name": "Gender",
         "rawType": "object",
         "type": "string"
        },
        {
         "name": "Customer Type",
         "rawType": "object",
         "type": "string"
        },
        {
         "name": "Type of Travel",
         "rawType": "object",
         "type": "string"
        },
        {
         "name": "Class",
         "rawType": "object",
         "type": "string"
        },
        {
         "name": "satisfaction",
         "rawType": "object",
         "type": "string"
        },
        {
         "name": "Age",
         "rawType": "int64",
         "type": "integer"
        },
        {
         "name": "Flight Distance",
         "rawType": "int64",
         "type": "integer"
        },
        {
         "name": "Inflight entertainment",
         "rawType": "int64",
         "type": "integer"
        },
        {
         "name": "Baggage handling",
         "rawType": "int64",
         "type": "integer"
        },
        {
         "name": "Cleanliness",
         "rawType": "int64",
         "type": "integer"
        },
        {
         "name": "Departure Delay in Minutes",
         "rawType": "int64",
         "type": "integer"
        },
        {
         "name": "Arrival Delay in Minutes",
         "rawType": "float64",
         "type": "float"
        }
       ],
       "conversionMethod": "pd.DataFrame",
       "ref": "fb3fc203-7bd0-4f4a-8d43-911115987a10",
       "rows": [
        [
         "22368",
         "Male",
         "Loyal Customer",
         "Business travel",
         "Eco Plus",
         "neutral or dissatisfied",
         "43",
         "588",
         "2",
         "3",
         "2",
         "4",
         "0.0"
        ],
        [
         "7750",
         "Female",
         "Loyal Customer",
         "Business travel",
         "Business",
         "satisfied",
         "36",
         "3414",
         "4",
         "4",
         "5",
         "0",
         "0.0"
        ],
        [
         "97084",
         "Male",
         "Loyal Customer",
         "Business travel",
         "Business",
         "satisfied",
         "58",
         "2102",
         "5",
         "5",
         "3",
         "0",
         "0.0"
        ],
        [
         "25728",
         "Male",
         "Loyal Customer",
         "Business travel",
         "Eco",
         "neutral or dissatisfied",
         "62",
         "204",
         "4",
         "3",
         "4",
         "8",
         "0.0"
        ],
        [
         "42603",
         "Male",
         "Loyal Customer",
         "Personal Travel",
         "Eco",
         "neutral or dissatisfied",
         "44",
         "859",
         "2",
         "4",
         "2",
         "50",
         "34.0"
        ]
       ],
       "shape": {
        "columns": 12,
        "rows": 5
       }
      },
      "text/html": [
       "<div>\n",
       "<style scoped>\n",
       "    .dataframe tbody tr th:only-of-type {\n",
       "        vertical-align: middle;\n",
       "    }\n",
       "\n",
       "    .dataframe tbody tr th {\n",
       "        vertical-align: top;\n",
       "    }\n",
       "\n",
       "    .dataframe thead th {\n",
       "        text-align: right;\n",
       "    }\n",
       "</style>\n",
       "<table border=\"1\" class=\"dataframe\">\n",
       "  <thead>\n",
       "    <tr style=\"text-align: right;\">\n",
       "      <th></th>\n",
       "      <th>Gender</th>\n",
       "      <th>Customer Type</th>\n",
       "      <th>Type of Travel</th>\n",
       "      <th>Class</th>\n",
       "      <th>satisfaction</th>\n",
       "      <th>Age</th>\n",
       "      <th>Flight Distance</th>\n",
       "      <th>Inflight entertainment</th>\n",
       "      <th>Baggage handling</th>\n",
       "      <th>Cleanliness</th>\n",
       "      <th>Departure Delay in Minutes</th>\n",
       "      <th>Arrival Delay in Minutes</th>\n",
       "    </tr>\n",
       "  </thead>\n",
       "  <tbody>\n",
       "    <tr>\n",
       "      <th>22368</th>\n",
       "      <td>Male</td>\n",
       "      <td>Loyal Customer</td>\n",
       "      <td>Business travel</td>\n",
       "      <td>Eco Plus</td>\n",
       "      <td>neutral or dissatisfied</td>\n",
       "      <td>43</td>\n",
       "      <td>588</td>\n",
       "      <td>2</td>\n",
       "      <td>3</td>\n",
       "      <td>2</td>\n",
       "      <td>4</td>\n",
       "      <td>0.0</td>\n",
       "    </tr>\n",
       "    <tr>\n",
       "      <th>7750</th>\n",
       "      <td>Female</td>\n",
       "      <td>Loyal Customer</td>\n",
       "      <td>Business travel</td>\n",
       "      <td>Business</td>\n",
       "      <td>satisfied</td>\n",
       "      <td>36</td>\n",
       "      <td>3414</td>\n",
       "      <td>4</td>\n",
       "      <td>4</td>\n",
       "      <td>5</td>\n",
       "      <td>0</td>\n",
       "      <td>0.0</td>\n",
       "    </tr>\n",
       "    <tr>\n",
       "      <th>97084</th>\n",
       "      <td>Male</td>\n",
       "      <td>Loyal Customer</td>\n",
       "      <td>Business travel</td>\n",
       "      <td>Business</td>\n",
       "      <td>satisfied</td>\n",
       "      <td>58</td>\n",
       "      <td>2102</td>\n",
       "      <td>5</td>\n",
       "      <td>5</td>\n",
       "      <td>3</td>\n",
       "      <td>0</td>\n",
       "      <td>0.0</td>\n",
       "    </tr>\n",
       "    <tr>\n",
       "      <th>25728</th>\n",
       "      <td>Male</td>\n",
       "      <td>Loyal Customer</td>\n",
       "      <td>Business travel</td>\n",
       "      <td>Eco</td>\n",
       "      <td>neutral or dissatisfied</td>\n",
       "      <td>62</td>\n",
       "      <td>204</td>\n",
       "      <td>4</td>\n",
       "      <td>3</td>\n",
       "      <td>4</td>\n",
       "      <td>8</td>\n",
       "      <td>0.0</td>\n",
       "    </tr>\n",
       "    <tr>\n",
       "      <th>42603</th>\n",
       "      <td>Male</td>\n",
       "      <td>Loyal Customer</td>\n",
       "      <td>Personal Travel</td>\n",
       "      <td>Eco</td>\n",
       "      <td>neutral or dissatisfied</td>\n",
       "      <td>44</td>\n",
       "      <td>859</td>\n",
       "      <td>2</td>\n",
       "      <td>4</td>\n",
       "      <td>2</td>\n",
       "      <td>50</td>\n",
       "      <td>34.0</td>\n",
       "    </tr>\n",
       "  </tbody>\n",
       "</table>\n",
       "</div>"
      ],
      "text/plain": [
       "       Gender   Customer Type   Type of Travel     Class  \\\n",
       "22368    Male  Loyal Customer  Business travel  Eco Plus   \n",
       "7750   Female  Loyal Customer  Business travel  Business   \n",
       "97084    Male  Loyal Customer  Business travel  Business   \n",
       "25728    Male  Loyal Customer  Business travel       Eco   \n",
       "42603    Male  Loyal Customer  Personal Travel       Eco   \n",
       "\n",
       "                  satisfaction  Age  Flight Distance  Inflight entertainment  \\\n",
       "22368  neutral or dissatisfied   43              588                       2   \n",
       "7750                 satisfied   36             3414                       4   \n",
       "97084                satisfied   58             2102                       5   \n",
       "25728  neutral or dissatisfied   62              204                       4   \n",
       "42603  neutral or dissatisfied   44              859                       2   \n",
       "\n",
       "       Baggage handling  Cleanliness  Departure Delay in Minutes  \\\n",
       "22368                 3            2                           4   \n",
       "7750                  4            5                           0   \n",
       "97084                 5            3                           0   \n",
       "25728                 3            4                           8   \n",
       "42603                 4            2                          50   \n",
       "\n",
       "       Arrival Delay in Minutes  \n",
       "22368                       0.0  \n",
       "7750                        0.0  \n",
       "97084                       0.0  \n",
       "25728                       0.0  \n",
       "42603                      34.0  "
      ]
     },
     "execution_count": 37,
     "metadata": {},
     "output_type": "execute_result"
    }
   ],
   "source": [
    "balance_pf = pd.concat([loyal_customer, disloyal_customer], axis=0)\n",
    "balance_pf.head()"
   ]
  },
  {
   "cell_type": "code",
   "execution_count": 38,
   "id": "03038462",
   "metadata": {},
   "outputs": [
    {
     "data": {
      "application/vnd.microsoft.datawrangler.viewer.v0+json": {
       "columns": [
        {
         "name": "index",
         "rawType": "int64",
         "type": "integer"
        },
        {
         "name": "Gender",
         "rawType": "object",
         "type": "string"
        },
        {
         "name": "Customer Type",
         "rawType": "object",
         "type": "string"
        },
        {
         "name": "Type of Travel",
         "rawType": "object",
         "type": "string"
        },
        {
         "name": "Class",
         "rawType": "object",
         "type": "string"
        },
        {
         "name": "satisfaction",
         "rawType": "object",
         "type": "string"
        }
       ],
       "conversionMethod": "pd.DataFrame",
       "ref": "44c5ed8f-e21e-4f99-ac7b-7cf14ec9b0bf",
       "rows": [
        [
         "0",
         "Male",
         "Loyal Customer",
         "Personal Travel",
         "Eco Plus",
         "neutral or dissatisfied"
        ],
        [
         "1",
         "Male",
         "disloyal Customer",
         "Business travel",
         "Business",
         "neutral or dissatisfied"
        ],
        [
         "2",
         "Female",
         "Loyal Customer",
         "Business travel",
         "Business",
         "satisfied"
        ],
        [
         "3",
         "Female",
         "Loyal Customer",
         "Business travel",
         "Business",
         "neutral or dissatisfied"
        ],
        [
         "4",
         "Male",
         "Loyal Customer",
         "Business travel",
         "Business",
         "satisfied"
        ],
        [
         "5",
         "Female",
         "Loyal Customer",
         "Personal Travel",
         "Eco",
         "neutral or dissatisfied"
        ],
        [
         "6",
         "Male",
         "Loyal Customer",
         "Personal Travel",
         "Eco",
         "neutral or dissatisfied"
        ],
        [
         "7",
         "Female",
         "Loyal Customer",
         "Business travel",
         "Business",
         "satisfied"
        ],
        [
         "8",
         "Female",
         "Loyal Customer",
         "Business travel",
         "Business",
         "neutral or dissatisfied"
        ],
        [
         "9",
         "Male",
         "disloyal Customer",
         "Business travel",
         "Eco",
         "neutral or dissatisfied"
        ],
        [
         "10",
         "Female",
         "disloyal Customer",
         "Business travel",
         "Eco",
         "neutral or dissatisfied"
        ],
        [
         "11",
         "Female",
         "Loyal Customer",
         "Personal Travel",
         "Eco Plus",
         "neutral or dissatisfied"
        ],
        [
         "12",
         "Male",
         "Loyal Customer",
         "Business travel",
         "Eco",
         "neutral or dissatisfied"
        ],
        [
         "13",
         "Male",
         "Loyal Customer",
         "Personal Travel",
         "Eco",
         "satisfied"
        ],
        [
         "14",
         "Female",
         "Loyal Customer",
         "Personal Travel",
         "Eco",
         "neutral or dissatisfied"
        ],
        [
         "15",
         "Male",
         "disloyal Customer",
         "Business travel",
         "Eco",
         "neutral or dissatisfied"
        ],
        [
         "16",
         "Female",
         "Loyal Customer",
         "Business travel",
         "Business",
         "satisfied"
        ],
        [
         "17",
         "Male",
         "Loyal Customer",
         "Business travel",
         "Business",
         "satisfied"
        ],
        [
         "18",
         "Female",
         "Loyal Customer",
         "Business travel",
         "Business",
         "satisfied"
        ],
        [
         "19",
         "Male",
         "Loyal Customer",
         "Personal Travel",
         "Eco",
         "neutral or dissatisfied"
        ],
        [
         "20",
         "Male",
         "Loyal Customer",
         "Business travel",
         "Eco",
         "neutral or dissatisfied"
        ],
        [
         "21",
         "Female",
         "Loyal Customer",
         "Personal Travel",
         "Eco",
         "neutral or dissatisfied"
        ],
        [
         "22",
         "Female",
         "Loyal Customer",
         "Personal Travel",
         "Eco",
         "neutral or dissatisfied"
        ],
        [
         "23",
         "Female",
         "Loyal Customer",
         "Personal Travel",
         "Eco",
         "neutral or dissatisfied"
        ],
        [
         "24",
         "Female",
         "disloyal Customer",
         "Business travel",
         "Eco",
         "satisfied"
        ],
        [
         "25",
         "Male",
         "Loyal Customer",
         "Personal Travel",
         "Eco",
         "neutral or dissatisfied"
        ],
        [
         "26",
         "Female",
         "Loyal Customer",
         "Business travel",
         "Business",
         "satisfied"
        ],
        [
         "27",
         "Female",
         "Loyal Customer",
         "Business travel",
         "Eco Plus",
         "satisfied"
        ],
        [
         "28",
         "Female",
         "Loyal Customer",
         "Business travel",
         "Business",
         "neutral or dissatisfied"
        ],
        [
         "29",
         "Male",
         "Loyal Customer",
         "Personal Travel",
         "Eco",
         "neutral or dissatisfied"
        ],
        [
         "30",
         "Female",
         "Loyal Customer",
         "Business travel",
         "Business",
         "satisfied"
        ],
        [
         "31",
         "Female",
         "disloyal Customer",
         "Business travel",
         "Eco",
         "neutral or dissatisfied"
        ],
        [
         "32",
         "Female",
         "Loyal Customer",
         "Business travel",
         "Business",
         "satisfied"
        ],
        [
         "33",
         "Female",
         "Loyal Customer",
         "Personal Travel",
         "Eco",
         "neutral or dissatisfied"
        ],
        [
         "34",
         "Male",
         "disloyal Customer",
         "Business travel",
         "Business",
         "neutral or dissatisfied"
        ],
        [
         "35",
         "Female",
         "Loyal Customer",
         "Business travel",
         "Eco",
         "neutral or dissatisfied"
        ],
        [
         "36",
         "Female",
         "disloyal Customer",
         "Business travel",
         "Business",
         "neutral or dissatisfied"
        ],
        [
         "37",
         "Male",
         "Loyal Customer",
         "Personal Travel",
         "Eco Plus",
         "neutral or dissatisfied"
        ],
        [
         "38",
         "Female",
         "Loyal Customer",
         "Personal Travel",
         "Eco",
         "satisfied"
        ],
        [
         "39",
         "Male",
         "disloyal Customer",
         "Business travel",
         "Business",
         "neutral or dissatisfied"
        ],
        [
         "40",
         "Male",
         "Loyal Customer",
         "Business travel",
         "Business",
         "satisfied"
        ],
        [
         "41",
         "Female",
         "disloyal Customer",
         "Business travel",
         "Business",
         "neutral or dissatisfied"
        ],
        [
         "42",
         "Male",
         "Loyal Customer",
         "Business travel",
         "Business",
         "satisfied"
        ],
        [
         "43",
         "Female",
         "Loyal Customer",
         "Business travel",
         "Business",
         "satisfied"
        ],
        [
         "44",
         "Female",
         "Loyal Customer",
         "Business travel",
         "Business",
         "satisfied"
        ],
        [
         "45",
         "Male",
         "Loyal Customer",
         "Business travel",
         "Business",
         "satisfied"
        ],
        [
         "46",
         "Female",
         "Loyal Customer",
         "Personal Travel",
         "Business",
         "neutral or dissatisfied"
        ],
        [
         "47",
         "Female",
         "Loyal Customer",
         "Business travel",
         "Business",
         "neutral or dissatisfied"
        ],
        [
         "48",
         "Male",
         "Loyal Customer",
         "Business travel",
         "Business",
         "satisfied"
        ],
        [
         "49",
         "Male",
         "Loyal Customer",
         "Personal Travel",
         "Eco",
         "neutral or dissatisfied"
        ]
       ],
       "shape": {
        "columns": 5,
        "rows": 103594
       }
      },
      "text/html": [
       "<div>\n",
       "<style scoped>\n",
       "    .dataframe tbody tr th:only-of-type {\n",
       "        vertical-align: middle;\n",
       "    }\n",
       "\n",
       "    .dataframe tbody tr th {\n",
       "        vertical-align: top;\n",
       "    }\n",
       "\n",
       "    .dataframe thead th {\n",
       "        text-align: right;\n",
       "    }\n",
       "</style>\n",
       "<table border=\"1\" class=\"dataframe\">\n",
       "  <thead>\n",
       "    <tr style=\"text-align: right;\">\n",
       "      <th></th>\n",
       "      <th>Gender</th>\n",
       "      <th>Customer Type</th>\n",
       "      <th>Type of Travel</th>\n",
       "      <th>Class</th>\n",
       "      <th>satisfaction</th>\n",
       "    </tr>\n",
       "  </thead>\n",
       "  <tbody>\n",
       "    <tr>\n",
       "      <th>0</th>\n",
       "      <td>Male</td>\n",
       "      <td>Loyal Customer</td>\n",
       "      <td>Personal Travel</td>\n",
       "      <td>Eco Plus</td>\n",
       "      <td>neutral or dissatisfied</td>\n",
       "    </tr>\n",
       "    <tr>\n",
       "      <th>1</th>\n",
       "      <td>Male</td>\n",
       "      <td>disloyal Customer</td>\n",
       "      <td>Business travel</td>\n",
       "      <td>Business</td>\n",
       "      <td>neutral or dissatisfied</td>\n",
       "    </tr>\n",
       "    <tr>\n",
       "      <th>2</th>\n",
       "      <td>Female</td>\n",
       "      <td>Loyal Customer</td>\n",
       "      <td>Business travel</td>\n",
       "      <td>Business</td>\n",
       "      <td>satisfied</td>\n",
       "    </tr>\n",
       "    <tr>\n",
       "      <th>3</th>\n",
       "      <td>Female</td>\n",
       "      <td>Loyal Customer</td>\n",
       "      <td>Business travel</td>\n",
       "      <td>Business</td>\n",
       "      <td>neutral or dissatisfied</td>\n",
       "    </tr>\n",
       "    <tr>\n",
       "      <th>4</th>\n",
       "      <td>Male</td>\n",
       "      <td>Loyal Customer</td>\n",
       "      <td>Business travel</td>\n",
       "      <td>Business</td>\n",
       "      <td>satisfied</td>\n",
       "    </tr>\n",
       "    <tr>\n",
       "      <th>...</th>\n",
       "      <td>...</td>\n",
       "      <td>...</td>\n",
       "      <td>...</td>\n",
       "      <td>...</td>\n",
       "      <td>...</td>\n",
       "    </tr>\n",
       "    <tr>\n",
       "      <th>103899</th>\n",
       "      <td>Female</td>\n",
       "      <td>disloyal Customer</td>\n",
       "      <td>Business travel</td>\n",
       "      <td>Eco</td>\n",
       "      <td>neutral or dissatisfied</td>\n",
       "    </tr>\n",
       "    <tr>\n",
       "      <th>103900</th>\n",
       "      <td>Male</td>\n",
       "      <td>Loyal Customer</td>\n",
       "      <td>Business travel</td>\n",
       "      <td>Business</td>\n",
       "      <td>satisfied</td>\n",
       "    </tr>\n",
       "    <tr>\n",
       "      <th>103901</th>\n",
       "      <td>Male</td>\n",
       "      <td>disloyal Customer</td>\n",
       "      <td>Business travel</td>\n",
       "      <td>Business</td>\n",
       "      <td>neutral or dissatisfied</td>\n",
       "    </tr>\n",
       "    <tr>\n",
       "      <th>103902</th>\n",
       "      <td>Female</td>\n",
       "      <td>disloyal Customer</td>\n",
       "      <td>Business travel</td>\n",
       "      <td>Eco</td>\n",
       "      <td>neutral or dissatisfied</td>\n",
       "    </tr>\n",
       "    <tr>\n",
       "      <th>103903</th>\n",
       "      <td>Male</td>\n",
       "      <td>Loyal Customer</td>\n",
       "      <td>Business travel</td>\n",
       "      <td>Business</td>\n",
       "      <td>neutral or dissatisfied</td>\n",
       "    </tr>\n",
       "  </tbody>\n",
       "</table>\n",
       "<p>103594 rows × 5 columns</p>\n",
       "</div>"
      ],
      "text/plain": [
       "        Gender      Customer Type   Type of Travel     Class  \\\n",
       "0         Male     Loyal Customer  Personal Travel  Eco Plus   \n",
       "1         Male  disloyal Customer  Business travel  Business   \n",
       "2       Female     Loyal Customer  Business travel  Business   \n",
       "3       Female     Loyal Customer  Business travel  Business   \n",
       "4         Male     Loyal Customer  Business travel  Business   \n",
       "...        ...                ...              ...       ...   \n",
       "103899  Female  disloyal Customer  Business travel       Eco   \n",
       "103900    Male     Loyal Customer  Business travel  Business   \n",
       "103901    Male  disloyal Customer  Business travel  Business   \n",
       "103902  Female  disloyal Customer  Business travel       Eco   \n",
       "103903    Male     Loyal Customer  Business travel  Business   \n",
       "\n",
       "                   satisfaction  \n",
       "0       neutral or dissatisfied  \n",
       "1       neutral or dissatisfied  \n",
       "2                     satisfied  \n",
       "3       neutral or dissatisfied  \n",
       "4                     satisfied  \n",
       "...                         ...  \n",
       "103899  neutral or dissatisfied  \n",
       "103900                satisfied  \n",
       "103901  neutral or dissatisfied  \n",
       "103902  neutral or dissatisfied  \n",
       "103903  neutral or dissatisfied  \n",
       "\n",
       "[103594 rows x 5 columns]"
      ]
     },
     "execution_count": 38,
     "metadata": {},
     "output_type": "execute_result"
    }
   ],
   "source": [
    "cat_col = df.select_dtypes(include= \"object\")\n",
    "cat_col"
   ]
  },
  {
   "cell_type": "code",
   "execution_count": 44,
   "id": "f13dbad8",
   "metadata": {},
   "outputs": [
    {
     "data": {
      "application/vnd.microsoft.datawrangler.viewer.v0+json": {
       "columns": [
        {
         "name": "index",
         "rawType": "int64",
         "type": "integer"
        },
        {
         "name": "Age",
         "rawType": "int64",
         "type": "integer"
        },
        {
         "name": "Flight Distance",
         "rawType": "int64",
         "type": "integer"
        },
        {
         "name": "Inflight entertainment",
         "rawType": "int64",
         "type": "integer"
        },
        {
         "name": "Baggage handling",
         "rawType": "int64",
         "type": "integer"
        },
        {
         "name": "Cleanliness",
         "rawType": "int64",
         "type": "integer"
        },
        {
         "name": "Departure Delay in Minutes",
         "rawType": "int64",
         "type": "integer"
        },
        {
         "name": "Arrival Delay in Minutes",
         "rawType": "float64",
         "type": "float"
        }
       ],
       "conversionMethod": "pd.DataFrame",
       "ref": "0edf2f0b-3ccd-4893-b357-f980dd44c26e",
       "rows": [
        [
         "0",
         "13",
         "460",
         "5",
         "4",
         "5",
         "25",
         "18.0"
        ],
        [
         "1",
         "25",
         "235",
         "1",
         "3",
         "1",
         "1",
         "6.0"
        ],
        [
         "2",
         "26",
         "1142",
         "5",
         "4",
         "5",
         "0",
         "0.0"
        ],
        [
         "3",
         "25",
         "562",
         "2",
         "3",
         "2",
         "11",
         "9.0"
        ],
        [
         "4",
         "61",
         "214",
         "3",
         "4",
         "3",
         "0",
         "0.0"
        ],
        [
         "5",
         "26",
         "1180",
         "1",
         "4",
         "1",
         "0",
         "0.0"
        ],
        [
         "6",
         "47",
         "1276",
         "2",
         "4",
         "2",
         "9",
         "23.0"
        ],
        [
         "7",
         "52",
         "2035",
         "5",
         "5",
         "4",
         "4",
         "0.0"
        ],
        [
         "8",
         "41",
         "853",
         "1",
         "1",
         "2",
         "0",
         "0.0"
        ],
        [
         "9",
         "20",
         "1061",
         "2",
         "4",
         "2",
         "0",
         "0.0"
        ],
        [
         "10",
         "24",
         "1182",
         "2",
         "5",
         "2",
         "0",
         "0.0"
        ],
        [
         "11",
         "12",
         "308",
         "1",
         "5",
         "1",
         "0",
         "0.0"
        ],
        [
         "12",
         "53",
         "834",
         "1",
         "3",
         "1",
         "28",
         "8.0"
        ],
        [
         "13",
         "33",
         "946",
         "4",
         "2",
         "4",
         "0",
         "0.0"
        ],
        [
         "14",
         "26",
         "453",
         "2",
         "2",
         "2",
         "43",
         "35.0"
        ],
        [
         "15",
         "13",
         "486",
         "4",
         "4",
         "4",
         "1",
         "0.0"
        ],
        [
         "16",
         "26",
         "2123",
         "4",
         "4",
         "4",
         "49",
         "51.0"
        ],
        [
         "17",
         "41",
         "2075",
         "5",
         "5",
         "5",
         "0",
         "10.0"
        ],
        [
         "18",
         "45",
         "2486",
         "5",
         "5",
         "4",
         "7",
         "5.0"
        ],
        [
         "19",
         "38",
         "460",
         "5",
         "4",
         "5",
         "17",
         "18.0"
        ],
        [
         "20",
         "9",
         "1174",
         "2",
         "3",
         "2",
         "0",
         "4.0"
        ],
        [
         "21",
         "17",
         "208",
         "5",
         "3",
         "5",
         "0",
         "0.0"
        ],
        [
         "22",
         "43",
         "752",
         "3",
         "5",
         "4",
         "52",
         "29.0"
        ],
        [
         "23",
         "58",
         "2139",
         "4",
         "4",
         "2",
         "0",
         "0.0"
        ],
        [
         "24",
         "23",
         "452",
         "1",
         "5",
         "1",
         "54",
         "44.0"
        ],
        [
         "25",
         "57",
         "719",
         "5",
         "4",
         "5",
         "27",
         "28.0"
        ],
        [
         "26",
         "33",
         "1561",
         "4",
         "3",
         "2",
         "0",
         "0.0"
        ],
        [
         "27",
         "49",
         "315",
         "4",
         "4",
         "2",
         "0",
         "8.0"
        ],
        [
         "28",
         "36",
         "3347",
         "3",
         "3",
         "2",
         "18",
         "12.0"
        ],
        [
         "29",
         "22",
         "2342",
         "3",
         "3",
         "3",
         "19",
         "0.0"
        ],
        [
         "30",
         "31",
         "819",
         "5",
         "3",
         "5",
         "0",
         "0.0"
        ],
        [
         "31",
         "15",
         "1043",
         "5",
         "4",
         "5",
         "3",
         "0.0"
        ],
        [
         "32",
         "35",
         "2611",
         "3",
         "5",
         "4",
         "109",
         "120.0"
        ],
        [
         "33",
         "67",
         "1192",
         "5",
         "3",
         "5",
         "18",
         "24.0"
        ],
        [
         "34",
         "37",
         "1182",
         "1",
         "3",
         "1",
         "9",
         "0.0"
        ],
        [
         "35",
         "40",
         "349",
         "1",
         "3",
         "1",
         "0",
         "1.0"
        ],
        [
         "36",
         "34",
         "883",
         "5",
         "5",
         "5",
         "0",
         "0.0"
        ],
        [
         "37",
         "40",
         "550",
         "2",
         "4",
         "2",
         "23",
         "20.0"
        ],
        [
         "38",
         "47",
         "302",
         "4",
         "4",
         "4",
         "23",
         "31.0"
        ],
        [
         "39",
         "41",
         "354",
         "1",
         "4",
         "1",
         "0",
         "0.0"
        ],
        [
         "40",
         "39",
         "1734",
         "4",
         "4",
         "3",
         "0",
         "0.0"
        ],
        [
         "41",
         "25",
         "1452",
         "3",
         "5",
         "3",
         "9",
         "23.0"
        ],
        [
         "42",
         "41",
         "296",
         "4",
         "4",
         "3",
         "0",
         "0.0"
        ],
        [
         "43",
         "38",
         "2882",
         "5",
         "5",
         "4",
         "0",
         "0.0"
        ],
        [
         "44",
         "50",
         "460",
         "3",
         "3",
         "5",
         "1",
         "15.0"
        ],
        [
         "45",
         "29",
         "529",
         "5",
         "5",
         "5",
         "4",
         "0.0"
        ],
        [
         "46",
         "22",
         "349",
         "4",
         "4",
         "4",
         "0",
         "0.0"
        ],
        [
         "47",
         "13",
         "1522",
         "1",
         "3",
         "1",
         "0",
         "0.0"
        ],
        [
         "48",
         "54",
         "612",
         "5",
         "5",
         "3",
         "8",
         "0.0"
        ],
        [
         "49",
         "21",
         "1454",
         "5",
         "3",
         "5",
         "0",
         "0.0"
        ]
       ],
       "shape": {
        "columns": 7,
        "rows": 103594
       }
      },
      "text/html": [
       "<div>\n",
       "<style scoped>\n",
       "    .dataframe tbody tr th:only-of-type {\n",
       "        vertical-align: middle;\n",
       "    }\n",
       "\n",
       "    .dataframe tbody tr th {\n",
       "        vertical-align: top;\n",
       "    }\n",
       "\n",
       "    .dataframe thead th {\n",
       "        text-align: right;\n",
       "    }\n",
       "</style>\n",
       "<table border=\"1\" class=\"dataframe\">\n",
       "  <thead>\n",
       "    <tr style=\"text-align: right;\">\n",
       "      <th></th>\n",
       "      <th>Age</th>\n",
       "      <th>Flight Distance</th>\n",
       "      <th>Inflight entertainment</th>\n",
       "      <th>Baggage handling</th>\n",
       "      <th>Cleanliness</th>\n",
       "      <th>Departure Delay in Minutes</th>\n",
       "      <th>Arrival Delay in Minutes</th>\n",
       "    </tr>\n",
       "  </thead>\n",
       "  <tbody>\n",
       "    <tr>\n",
       "      <th>0</th>\n",
       "      <td>13</td>\n",
       "      <td>460</td>\n",
       "      <td>5</td>\n",
       "      <td>4</td>\n",
       "      <td>5</td>\n",
       "      <td>25</td>\n",
       "      <td>18.0</td>\n",
       "    </tr>\n",
       "    <tr>\n",
       "      <th>1</th>\n",
       "      <td>25</td>\n",
       "      <td>235</td>\n",
       "      <td>1</td>\n",
       "      <td>3</td>\n",
       "      <td>1</td>\n",
       "      <td>1</td>\n",
       "      <td>6.0</td>\n",
       "    </tr>\n",
       "    <tr>\n",
       "      <th>2</th>\n",
       "      <td>26</td>\n",
       "      <td>1142</td>\n",
       "      <td>5</td>\n",
       "      <td>4</td>\n",
       "      <td>5</td>\n",
       "      <td>0</td>\n",
       "      <td>0.0</td>\n",
       "    </tr>\n",
       "    <tr>\n",
       "      <th>3</th>\n",
       "      <td>25</td>\n",
       "      <td>562</td>\n",
       "      <td>2</td>\n",
       "      <td>3</td>\n",
       "      <td>2</td>\n",
       "      <td>11</td>\n",
       "      <td>9.0</td>\n",
       "    </tr>\n",
       "    <tr>\n",
       "      <th>4</th>\n",
       "      <td>61</td>\n",
       "      <td>214</td>\n",
       "      <td>3</td>\n",
       "      <td>4</td>\n",
       "      <td>3</td>\n",
       "      <td>0</td>\n",
       "      <td>0.0</td>\n",
       "    </tr>\n",
       "    <tr>\n",
       "      <th>...</th>\n",
       "      <td>...</td>\n",
       "      <td>...</td>\n",
       "      <td>...</td>\n",
       "      <td>...</td>\n",
       "      <td>...</td>\n",
       "      <td>...</td>\n",
       "      <td>...</td>\n",
       "    </tr>\n",
       "    <tr>\n",
       "      <th>103899</th>\n",
       "      <td>23</td>\n",
       "      <td>192</td>\n",
       "      <td>2</td>\n",
       "      <td>4</td>\n",
       "      <td>2</td>\n",
       "      <td>3</td>\n",
       "      <td>0.0</td>\n",
       "    </tr>\n",
       "    <tr>\n",
       "      <th>103900</th>\n",
       "      <td>49</td>\n",
       "      <td>2347</td>\n",
       "      <td>5</td>\n",
       "      <td>5</td>\n",
       "      <td>4</td>\n",
       "      <td>0</td>\n",
       "      <td>0.0</td>\n",
       "    </tr>\n",
       "    <tr>\n",
       "      <th>103901</th>\n",
       "      <td>30</td>\n",
       "      <td>1995</td>\n",
       "      <td>4</td>\n",
       "      <td>4</td>\n",
       "      <td>4</td>\n",
       "      <td>7</td>\n",
       "      <td>14.0</td>\n",
       "    </tr>\n",
       "    <tr>\n",
       "      <th>103902</th>\n",
       "      <td>22</td>\n",
       "      <td>1000</td>\n",
       "      <td>1</td>\n",
       "      <td>1</td>\n",
       "      <td>1</td>\n",
       "      <td>0</td>\n",
       "      <td>0.0</td>\n",
       "    </tr>\n",
       "    <tr>\n",
       "      <th>103903</th>\n",
       "      <td>27</td>\n",
       "      <td>1723</td>\n",
       "      <td>1</td>\n",
       "      <td>4</td>\n",
       "      <td>1</td>\n",
       "      <td>0</td>\n",
       "      <td>0.0</td>\n",
       "    </tr>\n",
       "  </tbody>\n",
       "</table>\n",
       "<p>103594 rows × 7 columns</p>\n",
       "</div>"
      ],
      "text/plain": [
       "        Age  Flight Distance  Inflight entertainment  Baggage handling  \\\n",
       "0        13              460                       5                 4   \n",
       "1        25              235                       1                 3   \n",
       "2        26             1142                       5                 4   \n",
       "3        25              562                       2                 3   \n",
       "4        61              214                       3                 4   \n",
       "...     ...              ...                     ...               ...   \n",
       "103899   23              192                       2                 4   \n",
       "103900   49             2347                       5                 5   \n",
       "103901   30             1995                       4                 4   \n",
       "103902   22             1000                       1                 1   \n",
       "103903   27             1723                       1                 4   \n",
       "\n",
       "        Cleanliness  Departure Delay in Minutes  Arrival Delay in Minutes  \n",
       "0                 5                          25                      18.0  \n",
       "1                 1                           1                       6.0  \n",
       "2                 5                           0                       0.0  \n",
       "3                 2                          11                       9.0  \n",
       "4                 3                           0                       0.0  \n",
       "...             ...                         ...                       ...  \n",
       "103899            2                           3                       0.0  \n",
       "103900            4                           0                       0.0  \n",
       "103901            4                           7                      14.0  \n",
       "103902            1                           0                       0.0  \n",
       "103903            1                           0                       0.0  \n",
       "\n",
       "[103594 rows x 7 columns]"
      ]
     },
     "execution_count": 44,
     "metadata": {},
     "output_type": "execute_result"
    }
   ],
   "source": [
    "num_col = df.select_dtypes(exclude= \"object\")\n",
    "num_col"
   ]
  },
  {
   "cell_type": "code",
   "execution_count": 39,
   "id": "5cfd8d0f",
   "metadata": {},
   "outputs": [
    {
     "data": {
      "application/vnd.microsoft.datawrangler.viewer.v0+json": {
       "columns": [
        {
         "name": "index",
         "rawType": "int64",
         "type": "integer"
        },
        {
         "name": "Gender_Male",
         "rawType": "bool",
         "type": "boolean"
        },
        {
         "name": "Customer Type_disloyal Customer",
         "rawType": "bool",
         "type": "boolean"
        },
        {
         "name": "Type of Travel_Personal Travel",
         "rawType": "bool",
         "type": "boolean"
        },
        {
         "name": "Class_Eco",
         "rawType": "bool",
         "type": "boolean"
        },
        {
         "name": "Class_Eco Plus",
         "rawType": "bool",
         "type": "boolean"
        },
        {
         "name": "satisfaction_satisfied",
         "rawType": "bool",
         "type": "boolean"
        }
       ],
       "conversionMethod": "pd.DataFrame",
       "ref": "226a87c6-4505-4da1-94ef-b55e5e35520f",
       "rows": [
        [
         "0",
         "True",
         "False",
         "True",
         "False",
         "True",
         "False"
        ],
        [
         "1",
         "True",
         "True",
         "False",
         "False",
         "False",
         "False"
        ],
        [
         "2",
         "False",
         "False",
         "False",
         "False",
         "False",
         "True"
        ],
        [
         "3",
         "False",
         "False",
         "False",
         "False",
         "False",
         "False"
        ],
        [
         "4",
         "True",
         "False",
         "False",
         "False",
         "False",
         "True"
        ],
        [
         "5",
         "False",
         "False",
         "True",
         "True",
         "False",
         "False"
        ],
        [
         "6",
         "True",
         "False",
         "True",
         "True",
         "False",
         "False"
        ],
        [
         "7",
         "False",
         "False",
         "False",
         "False",
         "False",
         "True"
        ],
        [
         "8",
         "False",
         "False",
         "False",
         "False",
         "False",
         "False"
        ],
        [
         "9",
         "True",
         "True",
         "False",
         "True",
         "False",
         "False"
        ],
        [
         "10",
         "False",
         "True",
         "False",
         "True",
         "False",
         "False"
        ],
        [
         "11",
         "False",
         "False",
         "True",
         "False",
         "True",
         "False"
        ],
        [
         "12",
         "True",
         "False",
         "False",
         "True",
         "False",
         "False"
        ],
        [
         "13",
         "True",
         "False",
         "True",
         "True",
         "False",
         "True"
        ],
        [
         "14",
         "False",
         "False",
         "True",
         "True",
         "False",
         "False"
        ],
        [
         "15",
         "True",
         "True",
         "False",
         "True",
         "False",
         "False"
        ],
        [
         "16",
         "False",
         "False",
         "False",
         "False",
         "False",
         "True"
        ],
        [
         "17",
         "True",
         "False",
         "False",
         "False",
         "False",
         "True"
        ],
        [
         "18",
         "False",
         "False",
         "False",
         "False",
         "False",
         "True"
        ],
        [
         "19",
         "True",
         "False",
         "True",
         "True",
         "False",
         "False"
        ],
        [
         "20",
         "True",
         "False",
         "False",
         "True",
         "False",
         "False"
        ],
        [
         "21",
         "False",
         "False",
         "True",
         "True",
         "False",
         "False"
        ],
        [
         "22",
         "False",
         "False",
         "True",
         "True",
         "False",
         "False"
        ],
        [
         "23",
         "False",
         "False",
         "True",
         "True",
         "False",
         "False"
        ],
        [
         "24",
         "False",
         "True",
         "False",
         "True",
         "False",
         "True"
        ],
        [
         "25",
         "True",
         "False",
         "True",
         "True",
         "False",
         "False"
        ],
        [
         "26",
         "False",
         "False",
         "False",
         "False",
         "False",
         "True"
        ],
        [
         "27",
         "False",
         "False",
         "False",
         "False",
         "True",
         "True"
        ],
        [
         "28",
         "False",
         "False",
         "False",
         "False",
         "False",
         "False"
        ],
        [
         "29",
         "True",
         "False",
         "True",
         "True",
         "False",
         "False"
        ],
        [
         "30",
         "False",
         "False",
         "False",
         "False",
         "False",
         "True"
        ],
        [
         "31",
         "False",
         "True",
         "False",
         "True",
         "False",
         "False"
        ],
        [
         "32",
         "False",
         "False",
         "False",
         "False",
         "False",
         "True"
        ],
        [
         "33",
         "False",
         "False",
         "True",
         "True",
         "False",
         "False"
        ],
        [
         "34",
         "True",
         "True",
         "False",
         "False",
         "False",
         "False"
        ],
        [
         "35",
         "False",
         "False",
         "False",
         "True",
         "False",
         "False"
        ],
        [
         "36",
         "False",
         "True",
         "False",
         "False",
         "False",
         "False"
        ],
        [
         "37",
         "True",
         "False",
         "True",
         "False",
         "True",
         "False"
        ],
        [
         "38",
         "False",
         "False",
         "True",
         "True",
         "False",
         "True"
        ],
        [
         "39",
         "True",
         "True",
         "False",
         "False",
         "False",
         "False"
        ],
        [
         "40",
         "True",
         "False",
         "False",
         "False",
         "False",
         "True"
        ],
        [
         "41",
         "False",
         "True",
         "False",
         "False",
         "False",
         "False"
        ],
        [
         "42",
         "True",
         "False",
         "False",
         "False",
         "False",
         "True"
        ],
        [
         "43",
         "False",
         "False",
         "False",
         "False",
         "False",
         "True"
        ],
        [
         "44",
         "False",
         "False",
         "False",
         "False",
         "False",
         "True"
        ],
        [
         "45",
         "True",
         "False",
         "False",
         "False",
         "False",
         "True"
        ],
        [
         "46",
         "False",
         "False",
         "True",
         "False",
         "False",
         "False"
        ],
        [
         "47",
         "False",
         "False",
         "False",
         "False",
         "False",
         "False"
        ],
        [
         "48",
         "True",
         "False",
         "False",
         "False",
         "False",
         "True"
        ],
        [
         "49",
         "True",
         "False",
         "True",
         "True",
         "False",
         "False"
        ]
       ],
       "shape": {
        "columns": 6,
        "rows": 103594
       }
      },
      "text/html": [
       "<div>\n",
       "<style scoped>\n",
       "    .dataframe tbody tr th:only-of-type {\n",
       "        vertical-align: middle;\n",
       "    }\n",
       "\n",
       "    .dataframe tbody tr th {\n",
       "        vertical-align: top;\n",
       "    }\n",
       "\n",
       "    .dataframe thead th {\n",
       "        text-align: right;\n",
       "    }\n",
       "</style>\n",
       "<table border=\"1\" class=\"dataframe\">\n",
       "  <thead>\n",
       "    <tr style=\"text-align: right;\">\n",
       "      <th></th>\n",
       "      <th>Gender_Male</th>\n",
       "      <th>Customer Type_disloyal Customer</th>\n",
       "      <th>Type of Travel_Personal Travel</th>\n",
       "      <th>Class_Eco</th>\n",
       "      <th>Class_Eco Plus</th>\n",
       "      <th>satisfaction_satisfied</th>\n",
       "    </tr>\n",
       "  </thead>\n",
       "  <tbody>\n",
       "    <tr>\n",
       "      <th>0</th>\n",
       "      <td>True</td>\n",
       "      <td>False</td>\n",
       "      <td>True</td>\n",
       "      <td>False</td>\n",
       "      <td>True</td>\n",
       "      <td>False</td>\n",
       "    </tr>\n",
       "    <tr>\n",
       "      <th>1</th>\n",
       "      <td>True</td>\n",
       "      <td>True</td>\n",
       "      <td>False</td>\n",
       "      <td>False</td>\n",
       "      <td>False</td>\n",
       "      <td>False</td>\n",
       "    </tr>\n",
       "    <tr>\n",
       "      <th>2</th>\n",
       "      <td>False</td>\n",
       "      <td>False</td>\n",
       "      <td>False</td>\n",
       "      <td>False</td>\n",
       "      <td>False</td>\n",
       "      <td>True</td>\n",
       "    </tr>\n",
       "    <tr>\n",
       "      <th>3</th>\n",
       "      <td>False</td>\n",
       "      <td>False</td>\n",
       "      <td>False</td>\n",
       "      <td>False</td>\n",
       "      <td>False</td>\n",
       "      <td>False</td>\n",
       "    </tr>\n",
       "    <tr>\n",
       "      <th>4</th>\n",
       "      <td>True</td>\n",
       "      <td>False</td>\n",
       "      <td>False</td>\n",
       "      <td>False</td>\n",
       "      <td>False</td>\n",
       "      <td>True</td>\n",
       "    </tr>\n",
       "    <tr>\n",
       "      <th>...</th>\n",
       "      <td>...</td>\n",
       "      <td>...</td>\n",
       "      <td>...</td>\n",
       "      <td>...</td>\n",
       "      <td>...</td>\n",
       "      <td>...</td>\n",
       "    </tr>\n",
       "    <tr>\n",
       "      <th>103899</th>\n",
       "      <td>False</td>\n",
       "      <td>True</td>\n",
       "      <td>False</td>\n",
       "      <td>True</td>\n",
       "      <td>False</td>\n",
       "      <td>False</td>\n",
       "    </tr>\n",
       "    <tr>\n",
       "      <th>103900</th>\n",
       "      <td>True</td>\n",
       "      <td>False</td>\n",
       "      <td>False</td>\n",
       "      <td>False</td>\n",
       "      <td>False</td>\n",
       "      <td>True</td>\n",
       "    </tr>\n",
       "    <tr>\n",
       "      <th>103901</th>\n",
       "      <td>True</td>\n",
       "      <td>True</td>\n",
       "      <td>False</td>\n",
       "      <td>False</td>\n",
       "      <td>False</td>\n",
       "      <td>False</td>\n",
       "    </tr>\n",
       "    <tr>\n",
       "      <th>103902</th>\n",
       "      <td>False</td>\n",
       "      <td>True</td>\n",
       "      <td>False</td>\n",
       "      <td>True</td>\n",
       "      <td>False</td>\n",
       "      <td>False</td>\n",
       "    </tr>\n",
       "    <tr>\n",
       "      <th>103903</th>\n",
       "      <td>True</td>\n",
       "      <td>False</td>\n",
       "      <td>False</td>\n",
       "      <td>False</td>\n",
       "      <td>False</td>\n",
       "      <td>False</td>\n",
       "    </tr>\n",
       "  </tbody>\n",
       "</table>\n",
       "<p>103594 rows × 6 columns</p>\n",
       "</div>"
      ],
      "text/plain": [
       "        Gender_Male  Customer Type_disloyal Customer  \\\n",
       "0              True                            False   \n",
       "1              True                             True   \n",
       "2             False                            False   \n",
       "3             False                            False   \n",
       "4              True                            False   \n",
       "...             ...                              ...   \n",
       "103899        False                             True   \n",
       "103900         True                            False   \n",
       "103901         True                             True   \n",
       "103902        False                             True   \n",
       "103903         True                            False   \n",
       "\n",
       "        Type of Travel_Personal Travel  Class_Eco  Class_Eco Plus  \\\n",
       "0                                 True      False            True   \n",
       "1                                False      False           False   \n",
       "2                                False      False           False   \n",
       "3                                False      False           False   \n",
       "4                                False      False           False   \n",
       "...                                ...        ...             ...   \n",
       "103899                           False       True           False   \n",
       "103900                           False      False           False   \n",
       "103901                           False      False           False   \n",
       "103902                           False       True           False   \n",
       "103903                           False      False           False   \n",
       "\n",
       "        satisfaction_satisfied  \n",
       "0                        False  \n",
       "1                        False  \n",
       "2                         True  \n",
       "3                        False  \n",
       "4                         True  \n",
       "...                        ...  \n",
       "103899                   False  \n",
       "103900                    True  \n",
       "103901                   False  \n",
       "103902                   False  \n",
       "103903                   False  \n",
       "\n",
       "[103594 rows x 6 columns]"
      ]
     },
     "execution_count": 39,
     "metadata": {},
     "output_type": "execute_result"
    }
   ],
   "source": [
    "pd.get_dummies(cat_col,drop_first=True)"
   ]
  },
  {
   "cell_type": "code",
   "execution_count": 45,
   "id": "8a88bad2",
   "metadata": {},
   "outputs": [
    {
     "data": {
      "text/plain": [
       "array([[1., 0., 1., ..., 0., 1., 0.],\n",
       "       [1., 1., 0., ..., 0., 0., 0.],\n",
       "       [0., 0., 0., ..., 0., 0., 1.],\n",
       "       ...,\n",
       "       [1., 1., 0., ..., 0., 0., 0.],\n",
       "       [0., 1., 0., ..., 1., 0., 0.],\n",
       "       [1., 0., 0., ..., 0., 0., 0.]], shape=(103594, 7))"
      ]
     },
     "execution_count": 45,
     "metadata": {},
     "output_type": "execute_result"
    }
   ],
   "source": [
    "##encoding categorical data\n",
    "from sklearn.preprocessing import LabelEncoder ,OneHotEncoder\n",
    "ohe = OneHotEncoder(drop=\"if_binary\")\n",
    "cat_col_encoded = ohe.fit_transform(cat_col).toarray()\n",
    "cat_col_encoded"
   ]
  },
  {
   "cell_type": "code",
   "execution_count": 46,
   "id": "c3c0d423",
   "metadata": {},
   "outputs": [
    {
     "data": {
      "text/plain": [
       "['Gender_Male',\n",
       " 'Customer Type_disloyal Customer',\n",
       " 'Type of Travel_Personal Travel',\n",
       " 'Class_Business',\n",
       " 'Class_Eco',\n",
       " 'Class_Eco Plus',\n",
       " 'satisfaction_satisfied']"
      ]
     },
     "execution_count": 46,
     "metadata": {},
     "output_type": "execute_result"
    }
   ],
   "source": [
    "column_name = list(ohe.get_feature_names_out())\n",
    "column_name"
   ]
  },
  {
   "cell_type": "code",
   "execution_count": 47,
   "id": "c5ee486c",
   "metadata": {},
   "outputs": [
    {
     "data": {
      "application/vnd.microsoft.datawrangler.viewer.v0+json": {
       "columns": [
        {
         "name": "index",
         "rawType": "int64",
         "type": "integer"
        },
        {
         "name": "Gender_Male",
         "rawType": "float64",
         "type": "float"
        },
        {
         "name": "Customer Type_disloyal Customer",
         "rawType": "float64",
         "type": "float"
        },
        {
         "name": "Type of Travel_Personal Travel",
         "rawType": "float64",
         "type": "float"
        },
        {
         "name": "Class_Business",
         "rawType": "float64",
         "type": "float"
        },
        {
         "name": "Class_Eco",
         "rawType": "float64",
         "type": "float"
        },
        {
         "name": "Class_Eco Plus",
         "rawType": "float64",
         "type": "float"
        },
        {
         "name": "satisfaction_satisfied",
         "rawType": "float64",
         "type": "float"
        }
       ],
       "conversionMethod": "pd.DataFrame",
       "ref": "50928ef8-242d-4372-9a03-b321168da108",
       "rows": [
        [
         "0",
         "1.0",
         "0.0",
         "1.0",
         "0.0",
         "0.0",
         "1.0",
         "0.0"
        ],
        [
         "1",
         "1.0",
         "1.0",
         "0.0",
         "1.0",
         "0.0",
         "0.0",
         "0.0"
        ],
        [
         "2",
         "0.0",
         "0.0",
         "0.0",
         "1.0",
         "0.0",
         "0.0",
         "1.0"
        ],
        [
         "3",
         "0.0",
         "0.0",
         "0.0",
         "1.0",
         "0.0",
         "0.0",
         "0.0"
        ],
        [
         "4",
         "1.0",
         "0.0",
         "0.0",
         "1.0",
         "0.0",
         "0.0",
         "1.0"
        ]
       ],
       "shape": {
        "columns": 7,
        "rows": 5
       }
      },
      "text/html": [
       "<div>\n",
       "<style scoped>\n",
       "    .dataframe tbody tr th:only-of-type {\n",
       "        vertical-align: middle;\n",
       "    }\n",
       "\n",
       "    .dataframe tbody tr th {\n",
       "        vertical-align: top;\n",
       "    }\n",
       "\n",
       "    .dataframe thead th {\n",
       "        text-align: right;\n",
       "    }\n",
       "</style>\n",
       "<table border=\"1\" class=\"dataframe\">\n",
       "  <thead>\n",
       "    <tr style=\"text-align: right;\">\n",
       "      <th></th>\n",
       "      <th>Gender_Male</th>\n",
       "      <th>Customer Type_disloyal Customer</th>\n",
       "      <th>Type of Travel_Personal Travel</th>\n",
       "      <th>Class_Business</th>\n",
       "      <th>Class_Eco</th>\n",
       "      <th>Class_Eco Plus</th>\n",
       "      <th>satisfaction_satisfied</th>\n",
       "    </tr>\n",
       "  </thead>\n",
       "  <tbody>\n",
       "    <tr>\n",
       "      <th>0</th>\n",
       "      <td>1.0</td>\n",
       "      <td>0.0</td>\n",
       "      <td>1.0</td>\n",
       "      <td>0.0</td>\n",
       "      <td>0.0</td>\n",
       "      <td>1.0</td>\n",
       "      <td>0.0</td>\n",
       "    </tr>\n",
       "    <tr>\n",
       "      <th>1</th>\n",
       "      <td>1.0</td>\n",
       "      <td>1.0</td>\n",
       "      <td>0.0</td>\n",
       "      <td>1.0</td>\n",
       "      <td>0.0</td>\n",
       "      <td>0.0</td>\n",
       "      <td>0.0</td>\n",
       "    </tr>\n",
       "    <tr>\n",
       "      <th>2</th>\n",
       "      <td>0.0</td>\n",
       "      <td>0.0</td>\n",
       "      <td>0.0</td>\n",
       "      <td>1.0</td>\n",
       "      <td>0.0</td>\n",
       "      <td>0.0</td>\n",
       "      <td>1.0</td>\n",
       "    </tr>\n",
       "    <tr>\n",
       "      <th>3</th>\n",
       "      <td>0.0</td>\n",
       "      <td>0.0</td>\n",
       "      <td>0.0</td>\n",
       "      <td>1.0</td>\n",
       "      <td>0.0</td>\n",
       "      <td>0.0</td>\n",
       "      <td>0.0</td>\n",
       "    </tr>\n",
       "    <tr>\n",
       "      <th>4</th>\n",
       "      <td>1.0</td>\n",
       "      <td>0.0</td>\n",
       "      <td>0.0</td>\n",
       "      <td>1.0</td>\n",
       "      <td>0.0</td>\n",
       "      <td>0.0</td>\n",
       "      <td>1.0</td>\n",
       "    </tr>\n",
       "  </tbody>\n",
       "</table>\n",
       "</div>"
      ],
      "text/plain": [
       "   Gender_Male  Customer Type_disloyal Customer  \\\n",
       "0          1.0                              0.0   \n",
       "1          1.0                              1.0   \n",
       "2          0.0                              0.0   \n",
       "3          0.0                              0.0   \n",
       "4          1.0                              0.0   \n",
       "\n",
       "   Type of Travel_Personal Travel  Class_Business  Class_Eco  Class_Eco Plus  \\\n",
       "0                             1.0             0.0        0.0             1.0   \n",
       "1                             0.0             1.0        0.0             0.0   \n",
       "2                             0.0             1.0        0.0             0.0   \n",
       "3                             0.0             1.0        0.0             0.0   \n",
       "4                             0.0             1.0        0.0             0.0   \n",
       "\n",
       "   satisfaction_satisfied  \n",
       "0                     0.0  \n",
       "1                     0.0  \n",
       "2                     1.0  \n",
       "3                     0.0  \n",
       "4                     1.0  "
      ]
     },
     "execution_count": 47,
     "metadata": {},
     "output_type": "execute_result"
    }
   ],
   "source": [
    "one_hot = pd.DataFrame(cat_col_encoded, columns=column_name)\n",
    "one_hot.head()"
   ]
  },
  {
   "cell_type": "code",
   "execution_count": 48,
   "id": "f53e7dac",
   "metadata": {},
   "outputs": [
    {
     "data": {
      "application/vnd.microsoft.datawrangler.viewer.v0+json": {
       "columns": [
        {
         "name": "index",
         "rawType": "int64",
         "type": "integer"
        },
        {
         "name": "Gender_Male",
         "rawType": "float64",
         "type": "float"
        },
        {
         "name": "Customer Type_disloyal Customer",
         "rawType": "float64",
         "type": "float"
        },
        {
         "name": "Type of Travel_Personal Travel",
         "rawType": "float64",
         "type": "float"
        },
        {
         "name": "Class_Business",
         "rawType": "float64",
         "type": "float"
        },
        {
         "name": "Class_Eco",
         "rawType": "float64",
         "type": "float"
        },
        {
         "name": "Class_Eco Plus",
         "rawType": "float64",
         "type": "float"
        },
        {
         "name": "satisfaction_satisfied",
         "rawType": "float64",
         "type": "float"
        },
        {
         "name": "Age",
         "rawType": "int64",
         "type": "integer"
        },
        {
         "name": "Flight Distance",
         "rawType": "int64",
         "type": "integer"
        },
        {
         "name": "Inflight entertainment",
         "rawType": "int64",
         "type": "integer"
        },
        {
         "name": "Baggage handling",
         "rawType": "int64",
         "type": "integer"
        },
        {
         "name": "Cleanliness",
         "rawType": "int64",
         "type": "integer"
        },
        {
         "name": "Departure Delay in Minutes",
         "rawType": "int64",
         "type": "integer"
        },
        {
         "name": "Arrival Delay in Minutes",
         "rawType": "float64",
         "type": "float"
        }
       ],
       "conversionMethod": "pd.DataFrame",
       "ref": "1e769e30-87da-409b-afad-dba4655d132f",
       "rows": [
        [
         "0",
         "1.0",
         "0.0",
         "1.0",
         "0.0",
         "0.0",
         "1.0",
         "0.0",
         "13",
         "460",
         "5",
         "4",
         "5",
         "25",
         "18.0"
        ],
        [
         "1",
         "1.0",
         "1.0",
         "0.0",
         "1.0",
         "0.0",
         "0.0",
         "0.0",
         "25",
         "235",
         "1",
         "3",
         "1",
         "1",
         "6.0"
        ],
        [
         "2",
         "0.0",
         "0.0",
         "0.0",
         "1.0",
         "0.0",
         "0.0",
         "1.0",
         "26",
         "1142",
         "5",
         "4",
         "5",
         "0",
         "0.0"
        ],
        [
         "3",
         "0.0",
         "0.0",
         "0.0",
         "1.0",
         "0.0",
         "0.0",
         "0.0",
         "25",
         "562",
         "2",
         "3",
         "2",
         "11",
         "9.0"
        ],
        [
         "4",
         "1.0",
         "0.0",
         "0.0",
         "1.0",
         "0.0",
         "0.0",
         "1.0",
         "61",
         "214",
         "3",
         "4",
         "3",
         "0",
         "0.0"
        ]
       ],
       "shape": {
        "columns": 14,
        "rows": 5
       }
      },
      "text/html": [
       "<div>\n",
       "<style scoped>\n",
       "    .dataframe tbody tr th:only-of-type {\n",
       "        vertical-align: middle;\n",
       "    }\n",
       "\n",
       "    .dataframe tbody tr th {\n",
       "        vertical-align: top;\n",
       "    }\n",
       "\n",
       "    .dataframe thead th {\n",
       "        text-align: right;\n",
       "    }\n",
       "</style>\n",
       "<table border=\"1\" class=\"dataframe\">\n",
       "  <thead>\n",
       "    <tr style=\"text-align: right;\">\n",
       "      <th></th>\n",
       "      <th>Gender_Male</th>\n",
       "      <th>Customer Type_disloyal Customer</th>\n",
       "      <th>Type of Travel_Personal Travel</th>\n",
       "      <th>Class_Business</th>\n",
       "      <th>Class_Eco</th>\n",
       "      <th>Class_Eco Plus</th>\n",
       "      <th>satisfaction_satisfied</th>\n",
       "      <th>Age</th>\n",
       "      <th>Flight Distance</th>\n",
       "      <th>Inflight entertainment</th>\n",
       "      <th>Baggage handling</th>\n",
       "      <th>Cleanliness</th>\n",
       "      <th>Departure Delay in Minutes</th>\n",
       "      <th>Arrival Delay in Minutes</th>\n",
       "    </tr>\n",
       "  </thead>\n",
       "  <tbody>\n",
       "    <tr>\n",
       "      <th>0</th>\n",
       "      <td>1.0</td>\n",
       "      <td>0.0</td>\n",
       "      <td>1.0</td>\n",
       "      <td>0.0</td>\n",
       "      <td>0.0</td>\n",
       "      <td>1.0</td>\n",
       "      <td>0.0</td>\n",
       "      <td>13</td>\n",
       "      <td>460</td>\n",
       "      <td>5</td>\n",
       "      <td>4</td>\n",
       "      <td>5</td>\n",
       "      <td>25</td>\n",
       "      <td>18.0</td>\n",
       "    </tr>\n",
       "    <tr>\n",
       "      <th>1</th>\n",
       "      <td>1.0</td>\n",
       "      <td>1.0</td>\n",
       "      <td>0.0</td>\n",
       "      <td>1.0</td>\n",
       "      <td>0.0</td>\n",
       "      <td>0.0</td>\n",
       "      <td>0.0</td>\n",
       "      <td>25</td>\n",
       "      <td>235</td>\n",
       "      <td>1</td>\n",
       "      <td>3</td>\n",
       "      <td>1</td>\n",
       "      <td>1</td>\n",
       "      <td>6.0</td>\n",
       "    </tr>\n",
       "    <tr>\n",
       "      <th>2</th>\n",
       "      <td>0.0</td>\n",
       "      <td>0.0</td>\n",
       "      <td>0.0</td>\n",
       "      <td>1.0</td>\n",
       "      <td>0.0</td>\n",
       "      <td>0.0</td>\n",
       "      <td>1.0</td>\n",
       "      <td>26</td>\n",
       "      <td>1142</td>\n",
       "      <td>5</td>\n",
       "      <td>4</td>\n",
       "      <td>5</td>\n",
       "      <td>0</td>\n",
       "      <td>0.0</td>\n",
       "    </tr>\n",
       "    <tr>\n",
       "      <th>3</th>\n",
       "      <td>0.0</td>\n",
       "      <td>0.0</td>\n",
       "      <td>0.0</td>\n",
       "      <td>1.0</td>\n",
       "      <td>0.0</td>\n",
       "      <td>0.0</td>\n",
       "      <td>0.0</td>\n",
       "      <td>25</td>\n",
       "      <td>562</td>\n",
       "      <td>2</td>\n",
       "      <td>3</td>\n",
       "      <td>2</td>\n",
       "      <td>11</td>\n",
       "      <td>9.0</td>\n",
       "    </tr>\n",
       "    <tr>\n",
       "      <th>4</th>\n",
       "      <td>1.0</td>\n",
       "      <td>0.0</td>\n",
       "      <td>0.0</td>\n",
       "      <td>1.0</td>\n",
       "      <td>0.0</td>\n",
       "      <td>0.0</td>\n",
       "      <td>1.0</td>\n",
       "      <td>61</td>\n",
       "      <td>214</td>\n",
       "      <td>3</td>\n",
       "      <td>4</td>\n",
       "      <td>3</td>\n",
       "      <td>0</td>\n",
       "      <td>0.0</td>\n",
       "    </tr>\n",
       "  </tbody>\n",
       "</table>\n",
       "</div>"
      ],
      "text/plain": [
       "   Gender_Male  Customer Type_disloyal Customer  \\\n",
       "0          1.0                              0.0   \n",
       "1          1.0                              1.0   \n",
       "2          0.0                              0.0   \n",
       "3          0.0                              0.0   \n",
       "4          1.0                              0.0   \n",
       "\n",
       "   Type of Travel_Personal Travel  Class_Business  Class_Eco  Class_Eco Plus  \\\n",
       "0                             1.0             0.0        0.0             1.0   \n",
       "1                             0.0             1.0        0.0             0.0   \n",
       "2                             0.0             1.0        0.0             0.0   \n",
       "3                             0.0             1.0        0.0             0.0   \n",
       "4                             0.0             1.0        0.0             0.0   \n",
       "\n",
       "   satisfaction_satisfied  Age  Flight Distance  Inflight entertainment  \\\n",
       "0                     0.0   13              460                       5   \n",
       "1                     0.0   25              235                       1   \n",
       "2                     1.0   26             1142                       5   \n",
       "3                     0.0   25              562                       2   \n",
       "4                     1.0   61              214                       3   \n",
       "\n",
       "   Baggage handling  Cleanliness  Departure Delay in Minutes  \\\n",
       "0                 4            5                          25   \n",
       "1                 3            1                           1   \n",
       "2                 4            5                           0   \n",
       "3                 3            2                          11   \n",
       "4                 4            3                           0   \n",
       "\n",
       "   Arrival Delay in Minutes  \n",
       "0                      18.0  \n",
       "1                       6.0  \n",
       "2                       0.0  \n",
       "3                       9.0  \n",
       "4                       0.0  "
      ]
     },
     "execution_count": 48,
     "metadata": {},
     "output_type": "execute_result"
    }
   ],
   "source": [
    "one_hot = one_hot.reset_index(drop=True)\n",
    "num_col = num_col.reset_index(drop=True)\n",
    "final_df = pd.concat([one_hot,num_col],axis=1)\n",
    "final_df.head()\n"
   ]
  },
  {
   "cell_type": "code",
   "execution_count": 62,
   "id": "9a4caa09",
   "metadata": {},
   "outputs": [],
   "source": [
    "x = final_df.drop([\"Customer Type_disloyal Customer\"], axis=1)\n",
    "y = final_df[[\"Customer Type_disloyal Customer\"]]"
   ]
  },
  {
   "cell_type": "code",
   "execution_count": 63,
   "id": "3c4725fe",
   "metadata": {},
   "outputs": [],
   "source": [
    "##split data into train and test\n",
    "from sklearn.model_selection import train_test_split\n",
    "x_train, x_test, y_train, y_test = train_test_split(x, y, test_size=0.2, random_state=42)   "
   ]
  },
  {
   "cell_type": "code",
   "execution_count": 64,
   "id": "f59b0858",
   "metadata": {},
   "outputs": [
    {
     "name": "stderr",
     "output_type": "stream",
     "text": [
      "e:\\Python\\Lib\\site-packages\\sklearn\\utils\\validation.py:1408: DataConversionWarning: A column-vector y was passed when a 1d array was expected. Please change the shape of y to (n_samples, ), for example using ravel().\n",
      "  y = column_or_1d(y, warn=True)\n",
      "e:\\Python\\Lib\\site-packages\\sklearn\\linear_model\\_logistic.py:465: ConvergenceWarning: lbfgs failed to converge (status=1):\n",
      "STOP: TOTAL NO. OF ITERATIONS REACHED LIMIT.\n",
      "\n",
      "Increase the number of iterations (max_iter) or scale the data as shown in:\n",
      "    https://scikit-learn.org/stable/modules/preprocessing.html\n",
      "Please also refer to the documentation for alternative solver options:\n",
      "    https://scikit-learn.org/stable/modules/linear_model.html#logistic-regression\n",
      "  n_iter_i = _check_optimize_result(\n"
     ]
    },
    {
     "data": {
      "text/html": [
       "<style>#sk-container-id-2 {\n",
       "  /* Definition of color scheme common for light and dark mode */\n",
       "  --sklearn-color-text: #000;\n",
       "  --sklearn-color-text-muted: #666;\n",
       "  --sklearn-color-line: gray;\n",
       "  /* Definition of color scheme for unfitted estimators */\n",
       "  --sklearn-color-unfitted-level-0: #fff5e6;\n",
       "  --sklearn-color-unfitted-level-1: #f6e4d2;\n",
       "  --sklearn-color-unfitted-level-2: #ffe0b3;\n",
       "  --sklearn-color-unfitted-level-3: chocolate;\n",
       "  /* Definition of color scheme for fitted estimators */\n",
       "  --sklearn-color-fitted-level-0: #f0f8ff;\n",
       "  --sklearn-color-fitted-level-1: #d4ebff;\n",
       "  --sklearn-color-fitted-level-2: #b3dbfd;\n",
       "  --sklearn-color-fitted-level-3: cornflowerblue;\n",
       "\n",
       "  /* Specific color for light theme */\n",
       "  --sklearn-color-text-on-default-background: var(--sg-text-color, var(--theme-code-foreground, var(--jp-content-font-color1, black)));\n",
       "  --sklearn-color-background: var(--sg-background-color, var(--theme-background, var(--jp-layout-color0, white)));\n",
       "  --sklearn-color-border-box: var(--sg-text-color, var(--theme-code-foreground, var(--jp-content-font-color1, black)));\n",
       "  --sklearn-color-icon: #696969;\n",
       "\n",
       "  @media (prefers-color-scheme: dark) {\n",
       "    /* Redefinition of color scheme for dark theme */\n",
       "    --sklearn-color-text-on-default-background: var(--sg-text-color, var(--theme-code-foreground, var(--jp-content-font-color1, white)));\n",
       "    --sklearn-color-background: var(--sg-background-color, var(--theme-background, var(--jp-layout-color0, #111)));\n",
       "    --sklearn-color-border-box: var(--sg-text-color, var(--theme-code-foreground, var(--jp-content-font-color1, white)));\n",
       "    --sklearn-color-icon: #878787;\n",
       "  }\n",
       "}\n",
       "\n",
       "#sk-container-id-2 {\n",
       "  color: var(--sklearn-color-text);\n",
       "}\n",
       "\n",
       "#sk-container-id-2 pre {\n",
       "  padding: 0;\n",
       "}\n",
       "\n",
       "#sk-container-id-2 input.sk-hidden--visually {\n",
       "  border: 0;\n",
       "  clip: rect(1px 1px 1px 1px);\n",
       "  clip: rect(1px, 1px, 1px, 1px);\n",
       "  height: 1px;\n",
       "  margin: -1px;\n",
       "  overflow: hidden;\n",
       "  padding: 0;\n",
       "  position: absolute;\n",
       "  width: 1px;\n",
       "}\n",
       "\n",
       "#sk-container-id-2 div.sk-dashed-wrapped {\n",
       "  border: 1px dashed var(--sklearn-color-line);\n",
       "  margin: 0 0.4em 0.5em 0.4em;\n",
       "  box-sizing: border-box;\n",
       "  padding-bottom: 0.4em;\n",
       "  background-color: var(--sklearn-color-background);\n",
       "}\n",
       "\n",
       "#sk-container-id-2 div.sk-container {\n",
       "  /* jupyter's `normalize.less` sets `[hidden] { display: none; }`\n",
       "     but bootstrap.min.css set `[hidden] { display: none !important; }`\n",
       "     so we also need the `!important` here to be able to override the\n",
       "     default hidden behavior on the sphinx rendered scikit-learn.org.\n",
       "     See: https://github.com/scikit-learn/scikit-learn/issues/21755 */\n",
       "  display: inline-block !important;\n",
       "  position: relative;\n",
       "}\n",
       "\n",
       "#sk-container-id-2 div.sk-text-repr-fallback {\n",
       "  display: none;\n",
       "}\n",
       "\n",
       "div.sk-parallel-item,\n",
       "div.sk-serial,\n",
       "div.sk-item {\n",
       "  /* draw centered vertical line to link estimators */\n",
       "  background-image: linear-gradient(var(--sklearn-color-text-on-default-background), var(--sklearn-color-text-on-default-background));\n",
       "  background-size: 2px 100%;\n",
       "  background-repeat: no-repeat;\n",
       "  background-position: center center;\n",
       "}\n",
       "\n",
       "/* Parallel-specific style estimator block */\n",
       "\n",
       "#sk-container-id-2 div.sk-parallel-item::after {\n",
       "  content: \"\";\n",
       "  width: 100%;\n",
       "  border-bottom: 2px solid var(--sklearn-color-text-on-default-background);\n",
       "  flex-grow: 1;\n",
       "}\n",
       "\n",
       "#sk-container-id-2 div.sk-parallel {\n",
       "  display: flex;\n",
       "  align-items: stretch;\n",
       "  justify-content: center;\n",
       "  background-color: var(--sklearn-color-background);\n",
       "  position: relative;\n",
       "}\n",
       "\n",
       "#sk-container-id-2 div.sk-parallel-item {\n",
       "  display: flex;\n",
       "  flex-direction: column;\n",
       "}\n",
       "\n",
       "#sk-container-id-2 div.sk-parallel-item:first-child::after {\n",
       "  align-self: flex-end;\n",
       "  width: 50%;\n",
       "}\n",
       "\n",
       "#sk-container-id-2 div.sk-parallel-item:last-child::after {\n",
       "  align-self: flex-start;\n",
       "  width: 50%;\n",
       "}\n",
       "\n",
       "#sk-container-id-2 div.sk-parallel-item:only-child::after {\n",
       "  width: 0;\n",
       "}\n",
       "\n",
       "/* Serial-specific style estimator block */\n",
       "\n",
       "#sk-container-id-2 div.sk-serial {\n",
       "  display: flex;\n",
       "  flex-direction: column;\n",
       "  align-items: center;\n",
       "  background-color: var(--sklearn-color-background);\n",
       "  padding-right: 1em;\n",
       "  padding-left: 1em;\n",
       "}\n",
       "\n",
       "\n",
       "/* Toggleable style: style used for estimator/Pipeline/ColumnTransformer box that is\n",
       "clickable and can be expanded/collapsed.\n",
       "- Pipeline and ColumnTransformer use this feature and define the default style\n",
       "- Estimators will overwrite some part of the style using the `sk-estimator` class\n",
       "*/\n",
       "\n",
       "/* Pipeline and ColumnTransformer style (default) */\n",
       "\n",
       "#sk-container-id-2 div.sk-toggleable {\n",
       "  /* Default theme specific background. It is overwritten whether we have a\n",
       "  specific estimator or a Pipeline/ColumnTransformer */\n",
       "  background-color: var(--sklearn-color-background);\n",
       "}\n",
       "\n",
       "/* Toggleable label */\n",
       "#sk-container-id-2 label.sk-toggleable__label {\n",
       "  cursor: pointer;\n",
       "  display: flex;\n",
       "  width: 100%;\n",
       "  margin-bottom: 0;\n",
       "  padding: 0.5em;\n",
       "  box-sizing: border-box;\n",
       "  text-align: center;\n",
       "  align-items: start;\n",
       "  justify-content: space-between;\n",
       "  gap: 0.5em;\n",
       "}\n",
       "\n",
       "#sk-container-id-2 label.sk-toggleable__label .caption {\n",
       "  font-size: 0.6rem;\n",
       "  font-weight: lighter;\n",
       "  color: var(--sklearn-color-text-muted);\n",
       "}\n",
       "\n",
       "#sk-container-id-2 label.sk-toggleable__label-arrow:before {\n",
       "  /* Arrow on the left of the label */\n",
       "  content: \"▸\";\n",
       "  float: left;\n",
       "  margin-right: 0.25em;\n",
       "  color: var(--sklearn-color-icon);\n",
       "}\n",
       "\n",
       "#sk-container-id-2 label.sk-toggleable__label-arrow:hover:before {\n",
       "  color: var(--sklearn-color-text);\n",
       "}\n",
       "\n",
       "/* Toggleable content - dropdown */\n",
       "\n",
       "#sk-container-id-2 div.sk-toggleable__content {\n",
       "  max-height: 0;\n",
       "  max-width: 0;\n",
       "  overflow: hidden;\n",
       "  text-align: left;\n",
       "  /* unfitted */\n",
       "  background-color: var(--sklearn-color-unfitted-level-0);\n",
       "}\n",
       "\n",
       "#sk-container-id-2 div.sk-toggleable__content.fitted {\n",
       "  /* fitted */\n",
       "  background-color: var(--sklearn-color-fitted-level-0);\n",
       "}\n",
       "\n",
       "#sk-container-id-2 div.sk-toggleable__content pre {\n",
       "  margin: 0.2em;\n",
       "  border-radius: 0.25em;\n",
       "  color: var(--sklearn-color-text);\n",
       "  /* unfitted */\n",
       "  background-color: var(--sklearn-color-unfitted-level-0);\n",
       "}\n",
       "\n",
       "#sk-container-id-2 div.sk-toggleable__content.fitted pre {\n",
       "  /* unfitted */\n",
       "  background-color: var(--sklearn-color-fitted-level-0);\n",
       "}\n",
       "\n",
       "#sk-container-id-2 input.sk-toggleable__control:checked~div.sk-toggleable__content {\n",
       "  /* Expand drop-down */\n",
       "  max-height: 200px;\n",
       "  max-width: 100%;\n",
       "  overflow: auto;\n",
       "}\n",
       "\n",
       "#sk-container-id-2 input.sk-toggleable__control:checked~label.sk-toggleable__label-arrow:before {\n",
       "  content: \"▾\";\n",
       "}\n",
       "\n",
       "/* Pipeline/ColumnTransformer-specific style */\n",
       "\n",
       "#sk-container-id-2 div.sk-label input.sk-toggleable__control:checked~label.sk-toggleable__label {\n",
       "  color: var(--sklearn-color-text);\n",
       "  background-color: var(--sklearn-color-unfitted-level-2);\n",
       "}\n",
       "\n",
       "#sk-container-id-2 div.sk-label.fitted input.sk-toggleable__control:checked~label.sk-toggleable__label {\n",
       "  background-color: var(--sklearn-color-fitted-level-2);\n",
       "}\n",
       "\n",
       "/* Estimator-specific style */\n",
       "\n",
       "/* Colorize estimator box */\n",
       "#sk-container-id-2 div.sk-estimator input.sk-toggleable__control:checked~label.sk-toggleable__label {\n",
       "  /* unfitted */\n",
       "  background-color: var(--sklearn-color-unfitted-level-2);\n",
       "}\n",
       "\n",
       "#sk-container-id-2 div.sk-estimator.fitted input.sk-toggleable__control:checked~label.sk-toggleable__label {\n",
       "  /* fitted */\n",
       "  background-color: var(--sklearn-color-fitted-level-2);\n",
       "}\n",
       "\n",
       "#sk-container-id-2 div.sk-label label.sk-toggleable__label,\n",
       "#sk-container-id-2 div.sk-label label {\n",
       "  /* The background is the default theme color */\n",
       "  color: var(--sklearn-color-text-on-default-background);\n",
       "}\n",
       "\n",
       "/* On hover, darken the color of the background */\n",
       "#sk-container-id-2 div.sk-label:hover label.sk-toggleable__label {\n",
       "  color: var(--sklearn-color-text);\n",
       "  background-color: var(--sklearn-color-unfitted-level-2);\n",
       "}\n",
       "\n",
       "/* Label box, darken color on hover, fitted */\n",
       "#sk-container-id-2 div.sk-label.fitted:hover label.sk-toggleable__label.fitted {\n",
       "  color: var(--sklearn-color-text);\n",
       "  background-color: var(--sklearn-color-fitted-level-2);\n",
       "}\n",
       "\n",
       "/* Estimator label */\n",
       "\n",
       "#sk-container-id-2 div.sk-label label {\n",
       "  font-family: monospace;\n",
       "  font-weight: bold;\n",
       "  display: inline-block;\n",
       "  line-height: 1.2em;\n",
       "}\n",
       "\n",
       "#sk-container-id-2 div.sk-label-container {\n",
       "  text-align: center;\n",
       "}\n",
       "\n",
       "/* Estimator-specific */\n",
       "#sk-container-id-2 div.sk-estimator {\n",
       "  font-family: monospace;\n",
       "  border: 1px dotted var(--sklearn-color-border-box);\n",
       "  border-radius: 0.25em;\n",
       "  box-sizing: border-box;\n",
       "  margin-bottom: 0.5em;\n",
       "  /* unfitted */\n",
       "  background-color: var(--sklearn-color-unfitted-level-0);\n",
       "}\n",
       "\n",
       "#sk-container-id-2 div.sk-estimator.fitted {\n",
       "  /* fitted */\n",
       "  background-color: var(--sklearn-color-fitted-level-0);\n",
       "}\n",
       "\n",
       "/* on hover */\n",
       "#sk-container-id-2 div.sk-estimator:hover {\n",
       "  /* unfitted */\n",
       "  background-color: var(--sklearn-color-unfitted-level-2);\n",
       "}\n",
       "\n",
       "#sk-container-id-2 div.sk-estimator.fitted:hover {\n",
       "  /* fitted */\n",
       "  background-color: var(--sklearn-color-fitted-level-2);\n",
       "}\n",
       "\n",
       "/* Specification for estimator info (e.g. \"i\" and \"?\") */\n",
       "\n",
       "/* Common style for \"i\" and \"?\" */\n",
       "\n",
       ".sk-estimator-doc-link,\n",
       "a:link.sk-estimator-doc-link,\n",
       "a:visited.sk-estimator-doc-link {\n",
       "  float: right;\n",
       "  font-size: smaller;\n",
       "  line-height: 1em;\n",
       "  font-family: monospace;\n",
       "  background-color: var(--sklearn-color-background);\n",
       "  border-radius: 1em;\n",
       "  height: 1em;\n",
       "  width: 1em;\n",
       "  text-decoration: none !important;\n",
       "  margin-left: 0.5em;\n",
       "  text-align: center;\n",
       "  /* unfitted */\n",
       "  border: var(--sklearn-color-unfitted-level-1) 1pt solid;\n",
       "  color: var(--sklearn-color-unfitted-level-1);\n",
       "}\n",
       "\n",
       ".sk-estimator-doc-link.fitted,\n",
       "a:link.sk-estimator-doc-link.fitted,\n",
       "a:visited.sk-estimator-doc-link.fitted {\n",
       "  /* fitted */\n",
       "  border: var(--sklearn-color-fitted-level-1) 1pt solid;\n",
       "  color: var(--sklearn-color-fitted-level-1);\n",
       "}\n",
       "\n",
       "/* On hover */\n",
       "div.sk-estimator:hover .sk-estimator-doc-link:hover,\n",
       ".sk-estimator-doc-link:hover,\n",
       "div.sk-label-container:hover .sk-estimator-doc-link:hover,\n",
       ".sk-estimator-doc-link:hover {\n",
       "  /* unfitted */\n",
       "  background-color: var(--sklearn-color-unfitted-level-3);\n",
       "  color: var(--sklearn-color-background);\n",
       "  text-decoration: none;\n",
       "}\n",
       "\n",
       "div.sk-estimator.fitted:hover .sk-estimator-doc-link.fitted:hover,\n",
       ".sk-estimator-doc-link.fitted:hover,\n",
       "div.sk-label-container:hover .sk-estimator-doc-link.fitted:hover,\n",
       ".sk-estimator-doc-link.fitted:hover {\n",
       "  /* fitted */\n",
       "  background-color: var(--sklearn-color-fitted-level-3);\n",
       "  color: var(--sklearn-color-background);\n",
       "  text-decoration: none;\n",
       "}\n",
       "\n",
       "/* Span, style for the box shown on hovering the info icon */\n",
       ".sk-estimator-doc-link span {\n",
       "  display: none;\n",
       "  z-index: 9999;\n",
       "  position: relative;\n",
       "  font-weight: normal;\n",
       "  right: .2ex;\n",
       "  padding: .5ex;\n",
       "  margin: .5ex;\n",
       "  width: min-content;\n",
       "  min-width: 20ex;\n",
       "  max-width: 50ex;\n",
       "  color: var(--sklearn-color-text);\n",
       "  box-shadow: 2pt 2pt 4pt #999;\n",
       "  /* unfitted */\n",
       "  background: var(--sklearn-color-unfitted-level-0);\n",
       "  border: .5pt solid var(--sklearn-color-unfitted-level-3);\n",
       "}\n",
       "\n",
       ".sk-estimator-doc-link.fitted span {\n",
       "  /* fitted */\n",
       "  background: var(--sklearn-color-fitted-level-0);\n",
       "  border: var(--sklearn-color-fitted-level-3);\n",
       "}\n",
       "\n",
       ".sk-estimator-doc-link:hover span {\n",
       "  display: block;\n",
       "}\n",
       "\n",
       "/* \"?\"-specific style due to the `<a>` HTML tag */\n",
       "\n",
       "#sk-container-id-2 a.estimator_doc_link {\n",
       "  float: right;\n",
       "  font-size: 1rem;\n",
       "  line-height: 1em;\n",
       "  font-family: monospace;\n",
       "  background-color: var(--sklearn-color-background);\n",
       "  border-radius: 1rem;\n",
       "  height: 1rem;\n",
       "  width: 1rem;\n",
       "  text-decoration: none;\n",
       "  /* unfitted */\n",
       "  color: var(--sklearn-color-unfitted-level-1);\n",
       "  border: var(--sklearn-color-unfitted-level-1) 1pt solid;\n",
       "}\n",
       "\n",
       "#sk-container-id-2 a.estimator_doc_link.fitted {\n",
       "  /* fitted */\n",
       "  border: var(--sklearn-color-fitted-level-1) 1pt solid;\n",
       "  color: var(--sklearn-color-fitted-level-1);\n",
       "}\n",
       "\n",
       "/* On hover */\n",
       "#sk-container-id-2 a.estimator_doc_link:hover {\n",
       "  /* unfitted */\n",
       "  background-color: var(--sklearn-color-unfitted-level-3);\n",
       "  color: var(--sklearn-color-background);\n",
       "  text-decoration: none;\n",
       "}\n",
       "\n",
       "#sk-container-id-2 a.estimator_doc_link.fitted:hover {\n",
       "  /* fitted */\n",
       "  background-color: var(--sklearn-color-fitted-level-3);\n",
       "}\n",
       "</style><div id=\"sk-container-id-2\" class=\"sk-top-container\"><div class=\"sk-text-repr-fallback\"><pre>LogisticRegression()</pre><b>In a Jupyter environment, please rerun this cell to show the HTML representation or trust the notebook. <br />On GitHub, the HTML representation is unable to render, please try loading this page with nbviewer.org.</b></div><div class=\"sk-container\" hidden><div class=\"sk-item\"><div class=\"sk-estimator fitted sk-toggleable\"><input class=\"sk-toggleable__control sk-hidden--visually\" id=\"sk-estimator-id-2\" type=\"checkbox\" checked><label for=\"sk-estimator-id-2\" class=\"sk-toggleable__label fitted sk-toggleable__label-arrow\"><div><div>LogisticRegression</div></div><div><a class=\"sk-estimator-doc-link fitted\" rel=\"noreferrer\" target=\"_blank\" href=\"https://scikit-learn.org/1.6/modules/generated/sklearn.linear_model.LogisticRegression.html\">?<span>Documentation for LogisticRegression</span></a><span class=\"sk-estimator-doc-link fitted\">i<span>Fitted</span></span></div></label><div class=\"sk-toggleable__content fitted\"><pre>LogisticRegression()</pre></div> </div></div></div></div>"
      ],
      "text/plain": [
       "LogisticRegression()"
      ]
     },
     "execution_count": 64,
     "metadata": {},
     "output_type": "execute_result"
    }
   ],
   "source": [
    "from sklearn.linear_model import LogisticRegression\n",
    "model = LogisticRegression()\n",
    "model.fit(x_train, y_train)"
   ]
  },
  {
   "cell_type": "code",
   "execution_count": 65,
   "id": "79e5493f",
   "metadata": {},
   "outputs": [
    {
     "data": {
      "text/plain": [
       "0.8935505279034691"
      ]
     },
     "execution_count": 65,
     "metadata": {},
     "output_type": "execute_result"
    }
   ],
   "source": [
    "model.score(x_train,y_train)"
   ]
  },
  {
   "cell_type": "code",
   "execution_count": 66,
   "id": "449b779f",
   "metadata": {},
   "outputs": [
    {
     "data": {
      "text/plain": [
       "0.8974371349968627"
      ]
     },
     "execution_count": 66,
     "metadata": {},
     "output_type": "execute_result"
    }
   ],
   "source": [
    "model.score(x_test,y_test)"
   ]
  },
  {
   "cell_type": "code",
   "execution_count": 67,
   "id": "652d383e",
   "metadata": {},
   "outputs": [
    {
     "data": {
      "application/vnd.microsoft.datawrangler.viewer.v0+json": {
       "columns": [
        {
         "name": "index",
         "rawType": "int64",
         "type": "integer"
        },
        {
         "name": "Customer Type_disloyal Customer",
         "rawType": "float64",
         "type": "float"
        },
        {
         "name": "prediction",
         "rawType": "float64",
         "type": "float"
        }
       ],
       "conversionMethod": "pd.DataFrame",
       "ref": "2037e9d5-e181-4bdc-b489-1fa0828df83c",
       "rows": [
        [
         "18550",
         "0.0",
         "0.0"
        ],
        [
         "19287",
         "0.0",
         "0.0"
        ],
        [
         "72281",
         "0.0",
         "0.0"
        ],
        [
         "84957",
         "0.0",
         "0.0"
        ],
        [
         "87557",
         "0.0",
         "0.0"
        ],
        [
         "6234",
         "0.0",
         "0.0"
        ],
        [
         "53272",
         "0.0",
         "0.0"
        ],
        [
         "28747",
         "0.0",
         "0.0"
        ],
        [
         "74899",
         "0.0",
         "0.0"
        ],
        [
         "7230",
         "0.0",
         "0.0"
        ],
        [
         "13125",
         "0.0",
         "0.0"
        ],
        [
         "101681",
         "0.0",
         "0.0"
        ],
        [
         "12560",
         "0.0",
         "0.0"
        ],
        [
         "13567",
         "0.0",
         "0.0"
        ],
        [
         "12580",
         "0.0",
         "0.0"
        ],
        [
         "65685",
         "0.0",
         "0.0"
        ],
        [
         "70282",
         "0.0",
         "0.0"
        ],
        [
         "20531",
         "0.0",
         "0.0"
        ],
        [
         "90040",
         "0.0",
         "0.0"
        ],
        [
         "65147",
         "1.0",
         "1.0"
        ],
        [
         "102301",
         "0.0",
         "0.0"
        ],
        [
         "31252",
         "0.0",
         "0.0"
        ],
        [
         "41934",
         "1.0",
         "1.0"
        ],
        [
         "49622",
         "0.0",
         "0.0"
        ],
        [
         "8690",
         "0.0",
         "0.0"
        ],
        [
         "39835",
         "0.0",
         "0.0"
        ],
        [
         "90510",
         "1.0",
         "0.0"
        ],
        [
         "9026",
         "0.0",
         "0.0"
        ],
        [
         "82638",
         "0.0",
         "0.0"
        ],
        [
         "22256",
         "1.0",
         "1.0"
        ],
        [
         "38337",
         "0.0",
         "0.0"
        ],
        [
         "31208",
         "0.0",
         "0.0"
        ],
        [
         "27085",
         "1.0",
         "1.0"
        ],
        [
         "58157",
         "1.0",
         "0.0"
        ],
        [
         "2327",
         "0.0",
         "0.0"
        ],
        [
         "821",
         "1.0",
         "1.0"
        ],
        [
         "43063",
         "0.0",
         "0.0"
        ],
        [
         "44709",
         "0.0",
         "0.0"
        ],
        [
         "73936",
         "1.0",
         "1.0"
        ],
        [
         "42352",
         "1.0",
         "1.0"
        ],
        [
         "102146",
         "0.0",
         "0.0"
        ],
        [
         "1137",
         "0.0",
         "0.0"
        ],
        [
         "58522",
         "0.0",
         "1.0"
        ],
        [
         "75959",
         "0.0",
         "0.0"
        ],
        [
         "77768",
         "1.0",
         "1.0"
        ],
        [
         "88082",
         "0.0",
         "0.0"
        ],
        [
         "77556",
         "0.0",
         "0.0"
        ],
        [
         "26956",
         "0.0",
         "0.0"
        ],
        [
         "45494",
         "0.0",
         "0.0"
        ],
        [
         "18684",
         "0.0",
         "0.0"
        ]
       ],
       "shape": {
        "columns": 2,
        "rows": 20719
       }
      },
      "text/html": [
       "<div>\n",
       "<style scoped>\n",
       "    .dataframe tbody tr th:only-of-type {\n",
       "        vertical-align: middle;\n",
       "    }\n",
       "\n",
       "    .dataframe tbody tr th {\n",
       "        vertical-align: top;\n",
       "    }\n",
       "\n",
       "    .dataframe thead th {\n",
       "        text-align: right;\n",
       "    }\n",
       "</style>\n",
       "<table border=\"1\" class=\"dataframe\">\n",
       "  <thead>\n",
       "    <tr style=\"text-align: right;\">\n",
       "      <th></th>\n",
       "      <th>Customer Type_disloyal Customer</th>\n",
       "      <th>prediction</th>\n",
       "    </tr>\n",
       "  </thead>\n",
       "  <tbody>\n",
       "    <tr>\n",
       "      <th>18550</th>\n",
       "      <td>0.0</td>\n",
       "      <td>0.0</td>\n",
       "    </tr>\n",
       "    <tr>\n",
       "      <th>19287</th>\n",
       "      <td>0.0</td>\n",
       "      <td>0.0</td>\n",
       "    </tr>\n",
       "    <tr>\n",
       "      <th>72281</th>\n",
       "      <td>0.0</td>\n",
       "      <td>0.0</td>\n",
       "    </tr>\n",
       "    <tr>\n",
       "      <th>84957</th>\n",
       "      <td>0.0</td>\n",
       "      <td>0.0</td>\n",
       "    </tr>\n",
       "    <tr>\n",
       "      <th>87557</th>\n",
       "      <td>0.0</td>\n",
       "      <td>0.0</td>\n",
       "    </tr>\n",
       "    <tr>\n",
       "      <th>...</th>\n",
       "      <td>...</td>\n",
       "      <td>...</td>\n",
       "    </tr>\n",
       "    <tr>\n",
       "      <th>13466</th>\n",
       "      <td>0.0</td>\n",
       "      <td>1.0</td>\n",
       "    </tr>\n",
       "    <tr>\n",
       "      <th>59404</th>\n",
       "      <td>0.0</td>\n",
       "      <td>0.0</td>\n",
       "    </tr>\n",
       "    <tr>\n",
       "      <th>84713</th>\n",
       "      <td>0.0</td>\n",
       "      <td>0.0</td>\n",
       "    </tr>\n",
       "    <tr>\n",
       "      <th>43975</th>\n",
       "      <td>0.0</td>\n",
       "      <td>0.0</td>\n",
       "    </tr>\n",
       "    <tr>\n",
       "      <th>43721</th>\n",
       "      <td>0.0</td>\n",
       "      <td>0.0</td>\n",
       "    </tr>\n",
       "  </tbody>\n",
       "</table>\n",
       "<p>20719 rows × 2 columns</p>\n",
       "</div>"
      ],
      "text/plain": [
       "       Customer Type_disloyal Customer  prediction\n",
       "18550                              0.0         0.0\n",
       "19287                              0.0         0.0\n",
       "72281                              0.0         0.0\n",
       "84957                              0.0         0.0\n",
       "87557                              0.0         0.0\n",
       "...                                ...         ...\n",
       "13466                              0.0         1.0\n",
       "59404                              0.0         0.0\n",
       "84713                              0.0         0.0\n",
       "43975                              0.0         0.0\n",
       "43721                              0.0         0.0\n",
       "\n",
       "[20719 rows x 2 columns]"
      ]
     },
     "execution_count": 67,
     "metadata": {},
     "output_type": "execute_result"
    }
   ],
   "source": [
    "pred = model.predict(x_test)\n",
    "y_test[\"prediction\"] = pred\n",
    "y_test"
   ]
  },
  {
   "cell_type": "code",
   "execution_count": 69,
   "id": "73ea5162",
   "metadata": {},
   "outputs": [
    {
     "data": {
      "text/plain": [
       "array([[16198,   786],\n",
       "       [ 1339,  2396]])"
      ]
     },
     "execution_count": 69,
     "metadata": {},
     "output_type": "execute_result"
    }
   ],
   "source": [
    "confusion_matrix(y_test[\"Customer Type_disloyal Customer\"],y_test[\"prediction\"])"
   ]
  },
  {
   "cell_type": "code",
   "execution_count": 76,
   "id": "276fbea8",
   "metadata": {},
   "outputs": [
    {
     "data": {
      "text/plain": [
       "Text(0.5, 23.52222222222222, 'Predicted')"
      ]
     },
     "execution_count": 76,
     "metadata": {},
     "output_type": "execute_result"
    },
    {
     "data": {
      "image/png": "[encoded data removed]",
      "text/plain": [
       "<Figure size 640x480 with 2 Axes>"
      ]
     },
     "metadata": {},
     "output_type": "display_data"
    }
   ],
   "source": [
    "##graph\n",
    "import seaborn as sns\n",
    "sns.heatmap(confusion_matrix(y_test[\"Customer Type_disloyal Customer\"],y_test[\"prediction\"]), annot=True, fmt=\"d\")\n",
    "plt.xlabel(\"Predicted\")"
   ]
  },
  {
   "cell_type": "code",
   "execution_count": 75,
   "id": "731ecd14",
   "metadata": {},
   "outputs": [
    {
     "name": "stdout",
     "output_type": "stream",
     "text": [
      "              precision    recall  f1-score   support\n",
      "\n",
      "         0.0       0.92      0.95      0.94     16984\n",
      "         1.0       0.75      0.64      0.69      3735\n",
      "\n",
      "    accuracy                           0.90     20719\n",
      "   macro avg       0.84      0.80      0.82     20719\n",
      "weighted avg       0.89      0.90      0.89     20719\n",
      "\n"
     ]
    },
    {
     "data": {
      "text/plain": [
       "0.8974371349968627"
      ]
     },
     "execution_count": 75,
     "metadata": {},
     "output_type": "execute_result"
    }
   ],
   "source": [
    "print(classification_report(y_test[\"Customer Type_disloyal Customer\"],y_test[\"prediction\"]))\n",
    "from sklearn.metrics import accuracy_score\n",
    "accuracy_score(y_test[\"Customer Type_disloyal Customer\"],y_test[\"prediction\"])\n"
   ]
  },
  {
   "cell_type": "code",
   "execution_count": 77,
   "id": "62966a87",
   "metadata": {},
   "outputs": [
    {
     "data": {
      "application/vnd.microsoft.datawrangler.viewer.v0+json": {
       "columns": [
        {
         "name": "index",
         "rawType": "int64",
         "type": "integer"
        },
        {
         "name": "Customer Type_disloyal Customer",
         "rawType": "float64",
         "type": "float"
        },
        {
         "name": "prediction",
         "rawType": "float64",
         "type": "float"
        }
       ],
       "conversionMethod": "pd.DataFrame",
       "ref": "e5cd7380-4060-468f-b53d-ab2cc1680f1c",
       "rows": [
        [
         "18550",
         "0.0",
         "0.0"
        ],
        [
         "19287",
         "0.0",
         "0.0"
        ],
        [
         "72281",
         "0.0",
         "0.0"
        ],
        [
         "84957",
         "0.0",
         "0.0"
        ],
        [
         "87557",
         "0.0",
         "0.0"
        ],
        [
         "6234",
         "0.0",
         "0.0"
        ],
        [
         "53272",
         "0.0",
         "0.0"
        ],
        [
         "28747",
         "0.0",
         "0.0"
        ],
        [
         "74899",
         "0.0",
         "0.0"
        ],
        [
         "7230",
         "0.0",
         "0.0"
        ],
        [
         "13125",
         "0.0",
         "0.0"
        ],
        [
         "101681",
         "0.0",
         "0.0"
        ],
        [
         "12560",
         "0.0",
         "0.0"
        ],
        [
         "13567",
         "0.0",
         "0.0"
        ],
        [
         "12580",
         "0.0",
         "0.0"
        ],
        [
         "65685",
         "0.0",
         "0.0"
        ],
        [
         "70282",
         "0.0",
         "0.0"
        ],
        [
         "20531",
         "0.0",
         "0.0"
        ],
        [
         "90040",
         "0.0",
         "0.0"
        ],
        [
         "65147",
         "1.0",
         "1.0"
        ],
        [
         "102301",
         "0.0",
         "0.0"
        ],
        [
         "31252",
         "0.0",
         "0.0"
        ],
        [
         "41934",
         "1.0",
         "1.0"
        ],
        [
         "49622",
         "0.0",
         "0.0"
        ],
        [
         "8690",
         "0.0",
         "0.0"
        ],
        [
         "39835",
         "0.0",
         "0.0"
        ],
        [
         "90510",
         "1.0",
         "0.0"
        ],
        [
         "9026",
         "0.0",
         "0.0"
        ],
        [
         "82638",
         "0.0",
         "0.0"
        ],
        [
         "22256",
         "1.0",
         "1.0"
        ],
        [
         "38337",
         "0.0",
         "0.0"
        ],
        [
         "31208",
         "0.0",
         "0.0"
        ],
        [
         "27085",
         "1.0",
         "1.0"
        ],
        [
         "58157",
         "1.0",
         "0.0"
        ],
        [
         "2327",
         "0.0",
         "0.0"
        ],
        [
         "821",
         "1.0",
         "1.0"
        ],
        [
         "43063",
         "0.0",
         "0.0"
        ],
        [
         "44709",
         "0.0",
         "0.0"
        ],
        [
         "73936",
         "1.0",
         "1.0"
        ],
        [
         "42352",
         "1.0",
         "1.0"
        ],
        [
         "102146",
         "0.0",
         "0.0"
        ],
        [
         "1137",
         "0.0",
         "0.0"
        ],
        [
         "58522",
         "0.0",
         "1.0"
        ],
        [
         "75959",
         "0.0",
         "0.0"
        ],
        [
         "77768",
         "1.0",
         "1.0"
        ],
        [
         "88082",
         "0.0",
         "0.0"
        ],
        [
         "77556",
         "0.0",
         "0.0"
        ],
        [
         "26956",
         "0.0",
         "0.0"
        ],
        [
         "45494",
         "0.0",
         "0.0"
        ],
        [
         "18684",
         "0.0",
         "0.0"
        ]
       ],
       "shape": {
        "columns": 2,
        "rows": 20719
       }
      },
      "text/html": [
       "<div>\n",
       "<style scoped>\n",
       "    .dataframe tbody tr th:only-of-type {\n",
       "        vertical-align: middle;\n",
       "    }\n",
       "\n",
       "    .dataframe tbody tr th {\n",
       "        vertical-align: top;\n",
       "    }\n",
       "\n",
       "    .dataframe thead th {\n",
       "        text-align: right;\n",
       "    }\n",
       "</style>\n",
       "<table border=\"1\" class=\"dataframe\">\n",
       "  <thead>\n",
       "    <tr style=\"text-align: right;\">\n",
       "      <th></th>\n",
       "      <th>Customer Type_disloyal Customer</th>\n",
       "      <th>prediction</th>\n",
       "    </tr>\n",
       "  </thead>\n",
       "  <tbody>\n",
       "    <tr>\n",
       "      <th>18550</th>\n",
       "      <td>0.0</td>\n",
       "      <td>0.0</td>\n",
       "    </tr>\n",
       "    <tr>\n",
       "      <th>19287</th>\n",
       "      <td>0.0</td>\n",
       "      <td>0.0</td>\n",
       "    </tr>\n",
       "    <tr>\n",
       "      <th>72281</th>\n",
       "      <td>0.0</td>\n",
       "      <td>0.0</td>\n",
       "    </tr>\n",
       "    <tr>\n",
       "      <th>84957</th>\n",
       "      <td>0.0</td>\n",
       "      <td>0.0</td>\n",
       "    </tr>\n",
       "    <tr>\n",
       "      <th>87557</th>\n",
       "      <td>0.0</td>\n",
       "      <td>0.0</td>\n",
       "    </tr>\n",
       "    <tr>\n",
       "      <th>...</th>\n",
       "      <td>...</td>\n",
       "      <td>...</td>\n",
       "    </tr>\n",
       "    <tr>\n",
       "      <th>13466</th>\n",
       "      <td>0.0</td>\n",
       "      <td>1.0</td>\n",
       "    </tr>\n",
       "    <tr>\n",
       "      <th>59404</th>\n",
       "      <td>0.0</td>\n",
       "      <td>0.0</td>\n",
       "    </tr>\n",
       "    <tr>\n",
       "      <th>84713</th>\n",
       "      <td>0.0</td>\n",
       "      <td>0.0</td>\n",
       "    </tr>\n",
       "    <tr>\n",
       "      <th>43975</th>\n",
       "      <td>0.0</td>\n",
       "      <td>0.0</td>\n",
       "    </tr>\n",
       "    <tr>\n",
       "      <th>43721</th>\n",
       "      <td>0.0</td>\n",
       "      <td>0.0</td>\n",
       "    </tr>\n",
       "  </tbody>\n",
       "</table>\n",
       "<p>20719 rows × 2 columns</p>\n",
       "</div>"
      ],
      "text/plain": [
       "       Customer Type_disloyal Customer  prediction\n",
       "18550                              0.0         0.0\n",
       "19287                              0.0         0.0\n",
       "72281                              0.0         0.0\n",
       "84957                              0.0         0.0\n",
       "87557                              0.0         0.0\n",
       "...                                ...         ...\n",
       "13466                              0.0         1.0\n",
       "59404                              0.0         0.0\n",
       "84713                              0.0         0.0\n",
       "43975                              0.0         0.0\n",
       "43721                              0.0         0.0\n",
       "\n",
       "[20719 rows x 2 columns]"
      ]
     },
     "execution_count": 77,
     "metadata": {},
     "output_type": "execute_result"
    }
   ],
   "source": [
    "pred = model.predict(x_test)\n",
    "y_test[\"prediction\"] = pred\n",
    "y_test"
   ]
  },
  {
   "cell_type": "code",
   "execution_count": 85,
   "id": "f943d137",
   "metadata": {},
   "outputs": [],
   "source": [
    "##decison tree\n",
    "from sklearn.tree import DecisionTreeClassifier\n",
    "from sklearn import tree\n",
    "import matplotlib.pyplot as plt"
   ]
  },
  {
   "cell_type": "code",
   "execution_count": 1,
   "id": "dc5d029c",
   "metadata": {},
   "outputs": [
    {
     "ename": "NameError",
     "evalue": "name 'DecisionTreeClassifier' is not defined",
     "output_type": "error",
     "traceback": [
      "\u001b[31m---------------------------------------------------------------------------\u001b[39m",
      "\u001b[31mNameError\u001b[39m                                 Traceback (most recent call last)",
      "\u001b[36mCell\u001b[39m\u001b[36m \u001b[39m\u001b[32mIn[1]\u001b[39m\u001b[32m, line 1\u001b[39m\n\u001b[32m----> \u001b[39m\u001b[32m1\u001b[39m dtree = \u001b[43mDecisionTreeClassifier\u001b[49m()\n\u001b[32m      2\u001b[39m dtree = dtree.fit(x,y)\n\u001b[32m      3\u001b[39m tree.plot_tree(dtree)\n",
      "\u001b[31mNameError\u001b[39m: name 'DecisionTreeClassifier' is not defined"
     ]
    }
   ],
   "source": [
    "dtree = DecisionTreeClassifier()\n",
    "dtree = dtree.fit(x,y)\n",
    "tree.plot_tree(dtree)"
   ]
  },
  {
   "cell_type": "code",
   "execution_count": null,
   "id": "8d33e9d7",
   "metadata": {},
   "outputs": [],
   "source": []
  }
 ],
 "metadata": {
  "kernelspec": {
   "display_name": "Python 3",
   "language": "python",
   "name": "python3"
  },
  "language_info": {
   "codemirror_mode": {
    "name": "ipython",
    "version": 3
   },
   "file_extension": ".py",
   "mimetype": "text/x-python",
   "name": "python",
   "nbconvert_exporter": "python",
   "pygments_lexer": "ipython3",
   "version": "3.13.2"
  }
 },
 "nbformat": 4,
 "nbformat_minor": 5
}
